{
 "cells": [
  {
   "cell_type": "code",
   "execution_count": 1,
   "metadata": {},
   "outputs": [],
   "source": [
    "import numpy as np\n",
    "import matplotlib.pyplot as plt\n",
    "from numpy import math\n",
    "import sympy as sym"
   ]
  },
  {
   "cell_type": "markdown",
   "metadata": {},
   "source": [
    "$\\textbf{1. Teoríco}$"
   ]
  },
  {
   "cell_type": "markdown",
   "metadata": {},
   "source": [
    "dada la relación recursiva:  \n",
    "$$\n",
    "x_{n+1}=4x_{n}-x_{n}^{2}\n",
    "$$\n",
    "y la base $n=0$:\n",
    "$$\n",
    "x_{0}=4\\sin^{2}(\\theta)\n",
    "$$\n",
    "Se puede asuminar que la base esta dada por: \n",
    "$$\n",
    "x_{0}=4\\sin^{2}(2^{n}\\theta)\n",
    "$$\n",
    "puesto que al ser $n=0$ el factor $2^{n}$ no afecta la relación inicial. Al remplazar en la relación recursiva se obtiene que:  \n",
    "$$\n",
    "x_{n+1}=4(4\\sin^{2}(2^{n}\\theta))-(4\\sin^{2}(2^{n}\\theta))^{2}\n",
    "$$\n",
    "por ende,\n",
    "$$\n",
    "x_{n+1}=16\\sin^{2}(2^{n}\\theta)-16\\sin^{4}(2^{n}\\theta)\n",
    "$$\n",
    "Al factorizar:\n",
    "$$\n",
    "x_{n+1}=16\\sin^{2}(2^{n}\\theta)(1-\\sin^{2}(2^{n}\\theta))\n",
    "$$\n",
    "$1-\\sin^{2}(2^{n}\\theta)$ puede ser remplazado por medio de identidades trigonométricas. Dando como resultado:\n",
    "\n",
    "$$\n",
    "x_{n+1}=16\\sin^{2}(2^{n}\\theta)(\\cos^{2}(2^{n}\\theta))\n",
    "$$\n",
    "Nuevamente aplicando identidades trigonometricas, se tiene que $2\\sin(2^{n}\\theta)\\cos(2^{n}\\theta)=\\sin(2^{n+1}\\theta)$ por ende al estar los valores al cuadrado se obtiene que el n-ésimo termino es: \n",
    "\n",
    "$$\n",
    "x_{n+1}=4\\sin^{2}(2^{n+1}\\theta)\n",
    "$$\n",
    "\n",
    "Siendo así el término general queda: \n",
    "\n",
    "$$\n",
    "x_{n}=4\\sin^{2}(2^{n}\\theta)\n",
    "$$"
   ]
  },
  {
   "cell_type": "markdown",
   "metadata": {},
   "source": [
    "$\\textbf{2.  Gaus-Seidel}$"
   ]
  },
  {
   "cell_type": "code",
   "execution_count": 2,
   "metadata": {},
   "outputs": [],
   "source": [
    "G1 = (\n",
    "    lambda x, y, z: (1 + y + z) / 3,  \n",
    "    lambda x, y, z: (3 + x - z) / 3, \n",
    "    lambda x, y, z: (7 - 2 * x - y) / 4 \n",
    ")"
   ]
  },
  {
   "cell_type": "code",
   "execution_count": 3,
   "metadata": {},
   "outputs": [
    {
     "data": {
      "text/plain": [
       "array([1., 1., 1.])"
      ]
     },
     "execution_count": 3,
     "metadata": {},
     "output_type": "execute_result"
    }
   ],
   "source": [
    "def Gauss_seidel(f, r, h=1e-8, iter=1000):\n",
    "    n = r.shape[0]  \n",
    "    x = r.copy()  \n",
    "\n",
    "    for k in range(iter):\n",
    "        x_old = x.copy() \n",
    "\n",
    "        for i in range(n):\n",
    "            x[i] = f[i](*x)  \n",
    "\n",
    "        if np.linalg.norm(x - x_old, np.inf) < h:\n",
    "            return x, k+1  \n",
    "        \n",
    "    return x, iter\n",
    "    \n",
    "\n",
    "r = np.array([1.,2.,0])\n",
    "\n",
    "solucion, iteraciones=Gauss_seidel(G1,r)\n",
    "solucion\n"
   ]
  },
  {
   "cell_type": "markdown",
   "metadata": {},
   "source": [
    "$\\textbf{3.  Clase para solucionar Gaus-Seidel y Jacobiano}$"
   ]
  },
  {
   "cell_type": "code",
   "execution_count": 4,
   "metadata": {},
   "outputs": [
    {
     "data": {
      "text/plain": [
       "(1.0000000000254434, 1.0000000002613536, 0.9999999997626395, 20)"
      ]
     },
     "execution_count": 4,
     "metadata": {},
     "output_type": "execute_result"
    }
   ],
   "source": [
    "def jacobi(G, r, h=1e-9, iter=1000):\n",
    "    x, y, z = r\n",
    "    x_new, y_new, z_new = x, y, z\n",
    "    k = 0\n",
    "\n",
    "    for i in range(iter):\n",
    "        k += 1\n",
    "\n",
    "        x_new = G[0](x, y, z)\n",
    "        y_new = G[1](x, y, z)\n",
    "        z_new = G[2](x, y, z)\n",
    "\n",
    "        # Verifica la convergencia\n",
    "        if abs(x_new - x) < h and abs(y_new - y) < h and abs(z_new - z) < h:\n",
    "            break\n",
    "\n",
    "        x, y, z = x_new, y_new, z_new\n",
    "\n",
    "    return x_new, y_new, z_new, k\n",
    "\n",
    "jacobi(G1,r)"
   ]
  },
  {
   "cell_type": "code",
   "execution_count": 5,
   "metadata": {},
   "outputs": [
    {
     "name": "stdout",
     "output_type": "stream",
     "text": [
      "Jacobi necesitó 21 iteraciones, \n",
      "y la solución es: \n",
      "(0.9999999999702068, 0.999999999838595, 1.0000000001564002)\n",
      "Gauss-Seidel necesitó 15 iteraciones, \n",
      "y la solución es:\n",
      "[1. 1. 1.]\n"
     ]
    }
   ],
   "source": [
    "class SistemaLineal:\n",
    "    def __init__(self, funciones):\n",
    "        self.funciones = funciones\n",
    "\n",
    "    def jacobi(self):\n",
    "        n = np.zeros(len(self.funciones))  \n",
    "        x_new, y_new, z_new, iteraciones = jacobi(self.funciones, n)  \n",
    "        solucion = (x_new, y_new, z_new)  \n",
    "        print(f\"Jacobi necesitó {iteraciones} iteraciones, \\ny la solución es: \")\n",
    "        return solucion\n",
    "\n",
    "    def gauss_seidel(self):\n",
    "        n = np.zeros(len(self.funciones)) \n",
    "        solucion, iteraciones = Gauss_seidel(self.funciones, n)\n",
    "        print(f\"Gauss-Seidel necesitó {iteraciones} iteraciones, \\ny la solución es:\")\n",
    "        return solucion\n",
    "\n",
    "\n",
    "sistema = SistemaLineal(G1)\n",
    "\n",
    "solucion_jacobi = sistema.jacobi()\n",
    "print(solucion_jacobi)\n",
    "\n",
    "solucion_gs = sistema.gauss_seidel()\n",
    "print(solucion_gs)\n"
   ]
  },
  {
   "cell_type": "markdown",
   "metadata": {},
   "source": [
    "$\\textbf{4.  Algoritmo que realice la multiplicación de dos matrices}$"
   ]
  },
  {
   "cell_type": "code",
   "execution_count": 15,
   "metadata": {},
   "outputs": [
    {
     "data": {
      "text/plain": [
       "array([[0., 0.],\n",
       "       [0., 0.]])"
      ]
     },
     "execution_count": 15,
     "metadata": {},
     "output_type": "execute_result"
    }
   ],
   "source": [
    "A=np.array([[1,0,0],[5,1,0],[-2,3,1]])\n",
    "B=np.array([[4,-2,1],[0,3,7],[0,0,2]])"
   ]
  },
  {
   "cell_type": "code",
   "execution_count": 20,
   "metadata": {},
   "outputs": [
    {
     "data": {
      "text/plain": [
       "array([[ 4., -2.,  1.],\n",
       "       [20., -7., 12.],\n",
       "       [-8., 13., 21.]])"
      ]
     },
     "execution_count": 20,
     "metadata": {},
     "output_type": "execute_result"
    }
   ],
   "source": [
    "def multiplicar_matriz(A,B):\n",
    "    n=len(A)\n",
    "    m=len(B[0])\n",
    "    c=np.zeros((n,m))\n",
    "\n",
    "    for i in range(len(A)):\n",
    "        for j in range(len(B)):\n",
    "            for k in range(len(A[0])):\n",
    "                c[i][j]+=A[i][k]*B[k][j]\n",
    "    return c\n",
    "\n",
    "multiplicar_matriz(A,B)"
   ]
  },
  {
   "cell_type": "markdown",
   "metadata": {},
   "source": [
    "$\\textbf{5. sustitución hacia adelante}$"
   ]
  },
  {
   "cell_type": "markdown",
   "metadata": {},
   "source": [
    "Dado el sistema lineal:\n",
    "$$\\begin{pmatrix}\n",
    "a_{11} & a_{12} & a_{13} & .. & a_{1n} \\\\\n",
    "a_{21} & a_{22} & a_{23} & .. & a_{2n} \\\\\n",
    ".. & .. & .. & .. & .. \\\\\n",
    ".. & .. & .. & .. & .. \\\\\n",
    "a_{n1} & a_{n2} & a_{n3} & .. & a_{nn} \n",
    "\\end{pmatrix} \n",
    " \\begin{pmatrix}\n",
    "x_1 \\\\\n",
    "x_2 \\\\\n",
    "x_3 \\\\\n",
    ".. \\\\\n",
    "x_n \n",
    "\\end{pmatrix}  \n",
    "    =\n",
    "\\begin{pmatrix}\n",
    "b_1 \\\\\n",
    "b_2 \\\\\n",
    "b_3 \\\\\n",
    ".. \\\\\n",
    "b_n \n",
    "\\end{pmatrix}\n",
    " $$\n",
    "\n",
    "esta puede ser aumentada de la forma aumentada  \\( A | b \\) donde \\( A \\) es la matriz de coeficientes y \\( b \\) es el vector de resultados. Se presenta de la siguiente manera:\n",
    "\n",
    "$$\n",
    "\\begin{pmatrix}\n",
    "a_{11} & a_{12} & a_{13} & \\cdots & a_{1n} & | & b_1 \\\\\n",
    "a_{21} & a_{22} & a_{23} & \\cdots & a_{2n} & | & b_2 \\\\\n",
    "\\vdots & \\vdots & \\vdots & \\vdots & \\vdots & | & \\vdots \\\\\n",
    "a_{n1} & a_{n2} & a_{n3} & \\cdots & a_{nn} & | & b_n \n",
    "\\end{pmatrix}\n",
    "$$"
   ]
  },
  {
   "cell_type": "markdown",
   "metadata": {},
   "source": [
    "\n",
    "Para realizar la sustitución hacia adelante, comenzamos despejando la primera variable $x_1$  de la primera ecuación:\n",
    "\n",
    "$$\n",
    "x_1 = \\frac{b_1 - (a_{12} x_2 + a_{13} x_3 + \\cdots + a_{1n} x_n)}{a_{11}}\n",
    "$$\n",
    "\n",
    "\n",
    "Posteriormente se despeja $x_2$ en la segunda ecuación:\n",
    "\n",
    "$$\n",
    "a_{21} x_1 + a_{22} x_2 + a_{23} x_3 + \\cdots + a_{2n} x_n = b_2\n",
    "$$\n",
    "\n",
    "Al hacer la sustitución en $x_1$:\n",
    "\n",
    "$$\n",
    "a_{21} \\left( \\frac{b_1 - (a_{12} x_2 + a_{13} x_3 + \\cdots + a_{1n} x_n)}{a_{11}} \\right) + a_{22} x_2 + a_{23} x_3 + \\cdots + a_{2n} x_n = b_2\n",
    "$$\n",
    "\n",
    "Reorganizando, obtenemos la expresión para $x_2$:\n",
    "\n",
    "$$\n",
    "x_2 = \\frac{b_2 - a_{21} \\left( \\frac{b_1 - (a_{12} x_2 + a_{13} x_3 + \\cdots + a_{1n} x_n)}{a_{11}} \\right) - (a_{23} x_3 + \\cdots + a_{2n} x_n)}{a_{22}}\n",
    "$$\n",
    "\n",
    "Este proceso continúa para las demás variables hasta llegar a $x_n$.\n",
    "\n",
    "Podemos generalizar este procedimiento para cualquier $i$:\n",
    "\n",
    "$$\n",
    "x_i = \\frac{b_i - \\sum_{j=0}^{i-1} a_{ij} x_j}{a_{ii}}\n",
    "$$\n",
    "\n",
    "La sustitución hacia adelante permite encontrar las soluciones de un sistema de ecuaciones lineales de manera sistemática. Al comenzar desde la primera incógnita y trabajar hacia la última, se asegura que cada variable se resuelva en términos de las anteriores, facilitando así la solución del sistema.\n"
   ]
  },
  {
   "cell_type": "markdown",
   "metadata": {},
   "source": [
    "$\\textbf{6. sustitución hacia atrás}$"
   ]
  },
  {
   "cell_type": "markdown",
   "metadata": {},
   "source": [
    "\n",
    "La sustitución hacia atrás se utiliza en el método de eliminación de Gauss, para iniciar supongamos que se a llevado a una expresión triangular superior\n",
    "\n",
    "$$\n",
    "\\begin{pmatrix}\n",
    "1 & a_{12} & a_{13} & \\cdots & a_{1n} & | & b_1 \\\\\n",
    "0 & 1 & a_{23} & \\cdots & a_{2n} & | & b_2' \\\\\n",
    "0 & 0 & 1 & \\cdots & a_{3n} & | & b_3'' \\\\\n",
    "\\vdots & \\vdots & \\vdots & \\vdots & \\vdots & | & \\vdots \\\\\n",
    "0 & 0 & 0 & \\cdots & 1 & | & b_n^{(n)}\n",
    "\\end{pmatrix}\n",
    "$$\n",
    "\n",
    "Aquí, la última fila representa la ecuación $ 1 \\cdot x_n = b_n^{(n)} $, donde $b_n^{(n)} $ es un valor calculado a partir de $ b $.\n",
    "\n",
    "La solución para la última variable es: \n",
    "\n",
    "$$\n",
    "x_n = b_n^{(n)}\n",
    "$$\n",
    "\n",
    "Al desarrolar la sustitución hacia atrás a partir de lo anterior, primero se debe encontrar $ x_{n-1} $, para ello se utiliza la penúltima ecuación:\n",
    "\n",
    "$$\n",
    "0 \\cdot x_n + 1 \\cdot x_{n-1} + a_{(n-1)n} \\cdot x_n = b_{n-1}^{(n-1)}\n",
    "$$\n",
    "\n",
    "Esto se puede reescribir como:\n",
    "\n",
    "$$\n",
    "x_{n-1} = b_{n-1}^{(n-1)} - a_{(n-1)n} \\cdot x_n\n",
    "$$\n",
    "\n",
    "Al continuar con las sustitución hacia atrás utilizando cada ecuación para despejar la siguiente variable, como por ejemplo:\n",
    "$$\n",
    "x_{n-2} = b_{n-2}^{(n-2)} - a_{(n-2)(n-1)} \\cdot x_{n-1} - a_{(n-2)n} \\cdot x_n\n",
    "$$\n",
    "\n",
    "De este modo se lleva a que para $x_1$ equivale a: \n",
    "\n",
    "$$\n",
    "x_1 = b_1^{(1)} - a_{12} \\cdot x_2 - a_{13} \\cdot x_3 - \\ldots - a_{1n} \\cdot x_n\n",
    "$$\n",
    "\n",
    "Este proceso de sustitución hacia atrás puede generalizarse para cualquier $ i $ de la siguiente manera:\n",
    "\n",
    "$$\n",
    "x_i = b_i^{(i)} - \\sum_{j=i+1}^{n} a_{ij} \\cdot x_j\n",
    "$$\n",
    "\n",
    "Donde $ a_{ij} $ son los coeficientes que multiplican las incógnitas en la $i $-ésima ecuación.\n",
    "\n",
    "\n",
    "El método de sustitución hacia atrás permite encontrar las soluciones de un sistema de ecuaciones lineales de manera sistemática. Al comenzar desde la última incógnita y trabajar hacia la primera, de esto modo se comprueba que cada variable es resuelta en términos de las que ya han sido calculadas, lo que facilita el proceso de resolución y asegura la consistencia del sistema.\n"
   ]
  },
  {
   "cell_type": "markdown",
   "metadata": {},
   "source": [
    "$\\textbf{8. Descomposición LU}$"
   ]
  },
  {
   "cell_type": "code",
   "execution_count": 37,
   "metadata": {},
   "outputs": [
    {
     "name": "stdout",
     "output_type": "stream",
     "text": [
      "[[ 1.  0.  0.]\n",
      " [ 5.  1.  0.]\n",
      " [-2.  3.  1.]]\n",
      "[[ 4. -2.  1.]\n",
      " [ 0.  3.  7.]\n",
      " [ 0.  0. -2.]]\n"
     ]
    }
   ],
   "source": [
    "n=3\n",
    "A=np.array([[4,-2,1],[20,-7,12],[-8,13,17]])\n",
    "\n",
    "def descomposición_LU(A):\n",
    "    n=len(A)\n",
    "    U=np.zeros([n,n])\n",
    "    L=np.zeros([n,n])\n",
    "    for i in range(0,n):\n",
    "        for j in range(0,n):\n",
    "            U[i,j]=A[i,j]\n",
    "\n",
    "    #Hacer tringular superior\n",
    "    for k in range(0,n):\n",
    "        for r in range(0,n):\n",
    "            if (k==r):\n",
    "                L[k,r]=1\n",
    "            if (k<r):\n",
    "                f=(A[r,k]/A[k,k])\n",
    "                L[r,k]=f\n",
    "                for c in range(0,n):\n",
    "                    A[r,c]=A[r,c]-f*A[k,c]\n",
    "                    U[r,c]=A[r,c]\n",
    "    return L, U\n",
    "\n",
    "L,U=descomposición_LU(A)\n",
    "print(L)\n",
    "print(U)"
   ]
  },
  {
   "cell_type": "code",
   "execution_count": 40,
   "metadata": {},
   "outputs": [
    {
     "name": "stdout",
     "output_type": "stream",
     "text": [
      "[[ 4. -2.  1.]\n",
      " [20. -7. 12.]\n",
      " [-8. 13. 17.]]\n",
      "[[ 4. -2.  1.]\n",
      " [20. -7. 12.]\n",
      " [-8. 13. 17.]]\n"
     ]
    }
   ],
   "source": [
    "#Un método de comprobación\n",
    "print(multiplicar_matriz(L,U))\n",
    "\n",
    "a=np.dot(L,U)\n",
    "print(a)"
   ]
  }
 ],
 "metadata": {
  "kernelspec": {
   "display_name": "base",
   "language": "python",
   "name": "python3"
  },
  "language_info": {
   "codemirror_mode": {
    "name": "ipython",
    "version": 3
   },
   "file_extension": ".py",
   "mimetype": "text/x-python",
   "name": "python",
   "nbconvert_exporter": "python",
   "pygments_lexer": "ipython3",
   "version": "3.11.3"
  }
 },
 "nbformat": 4,
 "nbformat_minor": 2
}
