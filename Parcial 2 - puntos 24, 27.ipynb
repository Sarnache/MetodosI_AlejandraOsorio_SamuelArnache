{
 "cells": [
  {
   "cell_type": "code",
   "execution_count": 45,
   "metadata": {},
   "outputs": [],
   "source": [
    "import numpy as np\n",
    "import matplotlib.pyplot as plt\n",
    "import sympy as sym"
   ]
  },
  {
   "cell_type": "code",
   "execution_count": 71,
   "metadata": {},
   "outputs": [],
   "source": [
    "#24)\n",
    "\n",
    "#a) 50 puntos y pesos de Gauss\n",
    "Roots, Weights = np.polynomial.legendre.leggauss(50)\n",
    "\n",
    "#b) Definir la funcion\n",
    "g_k = lambda x, y, z, r, phi: (z * r) / ((x**2 + y**2 + z**2 - 2*r*x*np.cos(phi) - 2*r*y*np.sin(phi))**(3/2))\n",
    "\n",
    "#c) Doble cuadratura\n",
    "def get_integral(Roots, Weights, x, y, z, R = 1.):\n",
    "    k = 1.9429303960\n",
    "    n = np.shape(Roots)[0]\n",
    "    \n",
    "    a = 0.\n",
    "    b = 2*np.pi\n",
    "    c = 0.\n",
    "    d = R\n",
    "\n",
    "    I = 0.\n",
    "    \n",
    "    for i in range(n):\n",
    "        for j in range(n):\n",
    "            I += -k*(((b-a)*(d-c))/4)*(Weights[i]*Weights[j]*g_k(x, y, z, 0.5*((Roots[j]*(d-c)) + c + d), 0.5*((Roots[i]*(b-a)) + a + b)))\n",
    "    return I\n",
    "    "
   ]
  },
  {
   "cell_type": "code",
   "execution_count": 72,
   "metadata": {},
   "outputs": [
    {
     "name": "stdout",
     "output_type": "stream",
     "text": [
      "Campo gravitacional en el punto  (0.0, 0.0, 0.2) : g = -152.59739646274775 m/s^2\n"
     ]
    }
   ],
   "source": [
    "#d) Campo gravitacional en el punto (0, 0, 0.2) \n",
    "p = (0., 0., 0.2)\n",
    "g = get_integral(Roots, Weights, p[0], p[1], p[2])\n",
    "print('Campo gravitacional en el punto ',p,': g = {} m/s^2'.format(g))"
   ]
  },
  {
   "cell_type": "code",
   "execution_count": 54,
   "metadata": {},
   "outputs": [
    {
     "name": "stderr",
     "output_type": "stream",
     "text": [
      "/var/folders/d3/l9212dl52rq4bd3hyqq1g_380000gn/T/ipykernel_33919/1950489046.py:7: RuntimeWarning: invalid value encountered in scalar power\n",
      "  g_k = lambda x, y, z, r, phi: (z * r) / ((x**2 + y**2 + z**2 - 2*r*x*np.cos(phi) - 2*r*y*np.sin(phi))**(3/2))\n"
     ]
    },
    {
     "data": {
      "image/png": "[encoded data removed]",
      "text/plain": [
       "<Figure size 640x480 with 1 Axes>"
      ]
     },
     "metadata": {},
     "output_type": "display_data"
    }
   ],
   "source": [
    "#e) Comportamiento azimutal del campo\n",
    "x_polar = lambda r, phi: r*np.cos(phi)\n",
    "y_polar = lambda r, phi: r*np.sin(phi)\n",
    "phi = np.linspace(0., 2*np.pi, 10)\n",
    "for R, c in zip([0., 0.125, 0.25, 0.38, 0.5], ['b', 'r', 'g', 'm', 'c']):\n",
    "    plt.scatter(phi, [get_integral(Roots, Weights, x_polar(R, i), y_polar(R, i), 0.2, R) for i in phi], color = c, marker=\"_\")\n",
    "plt.xlabel(\"Phi [Rad]\")\n",
    "plt.ylabel(\"g[m/s^2]\")\n",
    "plt.legend([0, 0.125, 0.25, 0.38, 0.5], loc=\"lower right\")\n",
    "plt.show()"
   ]
  },
  {
   "cell_type": "code",
   "execution_count": 55,
   "metadata": {},
   "outputs": [
    {
     "name": "stdout",
     "output_type": "stream",
     "text": [
      "Gravedad en R = 0.5:  nan m/s^2\n",
      "Gravedad en R = 1:  nan m/s^2\n"
     ]
    },
    {
     "name": "stderr",
     "output_type": "stream",
     "text": [
      "/var/folders/d3/l9212dl52rq4bd3hyqq1g_380000gn/T/ipykernel_33919/1950489046.py:7: RuntimeWarning: invalid value encountered in scalar power\n",
      "  g_k = lambda x, y, z, r, phi: (z * r) / ((x**2 + y**2 + z**2 - 2*r*x*np.cos(phi) - 2*r*y*np.sin(phi))**(3/2))\n"
     ]
    }
   ],
   "source": [
    "#(f) ¿Como interpreta que la gravedad no depende del angulo sobre la tierra?\n",
    "#Dado a que se esta trabajando sobre el sistema de coordenadas polares, \n",
    "#eso quiere decir que la gravedad es radialmente simetrica pues para un R constante todos los puntos para cualquier phi con equidistantes al origen.\n",
    "\n",
    "#(g) ¿Que valores tiene la gravedad en el ecuador R = 0.5 y en el borde R = 1?\n",
    "print('Gravedad en R = 0.5: ', get_integral(Roots, Weights, x_polar(0.5, 0.), y_polar(0.5, 0.), 0.2, 0.5), 'm/s^2')\n",
    "print('Gravedad en R = 1: ', get_integral(Roots, Weights, x_polar(1., 0.), y_polar(1., 0.), 0.2, 1.), 'm/s^2')\n",
    "\n",
    "#(h) ¿Que podrıa decirle a un amig@ terraplanista con base a sus resultados teoricos?\n",
    "# NO tiene sentido que la tierra sea plana pues la constante de la gravedad es mejor a medida que se aleja del polo. En ese sentido la gravedad en el ecuador seria mucho menor \n",
    "# y se sabe que eso no es cierto. Para demostrarlo experimentalmente, bastaria con pesarse a distintas distancias desde el polo norte y comparar los resultados.\n"
   ]
  },
  {
   "cell_type": "code",
   "execution_count": 50,
   "metadata": {},
   "outputs": [],
   "source": [
    "#27)\n",
    "#a) Tupla de 8 ecuaciones:\n",
    "F = (lambda w0, w1, w2, w3, x0, x1, x2, x3: w0 + w1 + w2 + w3 - 2.,\\\n",
    "     lambda w0, w1, w2, w3, x0, x1, x2, x3: (w0*x0) + (w1*x1) + (w2*x2) + (w3*x3),\\\n",
    "     lambda w0, w1, w2, w3, x0, x1, x2, x3: (w0*(x0**2)) + (w1*(x1**2)) + (w2*(x2**2)) + (w3*(x3**2)) - (2/3),\\\n",
    "     lambda w0, w1, w2, w3, x0, x1, x2, x3: (w0*(x0**3)) + (w1*(x1**3)) + (w2*(x2**3)) + (w3*(x3**3)),\\\n",
    "     lambda w0, w1, w2, w3, x0, x1, x2, x3: (w0*(x0**4)) + (w1*(x1**4)) + (w2*(x2**4)) + (w3*(x3**4)) - (2/5),\\\n",
    "     lambda w0, w1, w2, w3, x0, x1, x2, x3: (w0*(x0**5)) + (w1*(x1**5)) + (w2*(x2**5)) + (w3*(x3**5)),\\\n",
    "     lambda w0, w1, w2, w3, x0, x1, x2, x3: (w0*(x0**6)) + (w1*(x1**6)) + (w2*(x2**6)) + (w3*(x3**6)) - (2/7),\\\n",
    "     lambda w0, w1, w2, w3, x0, x1, x2, x3: (w0*(x0**7)) + (w1*(x1**7)) + (w2*(x2**7)) + (w3*(x3**7)))\n",
    "\n",
    "#b) Funcion vectorial:\n",
    "def GetF(F,r):\n",
    "\n",
    "  n = r.shape[0]\n",
    "  v = np.zeros(n)\n",
    "\n",
    "  for i in range(n):\n",
    "    v[i] = F[i](r[0],r[1],r[2],r[3],r[4],r[5],r[6],r[7])\n",
    "\n",
    "  return v\n",
    "\n",
    "#c) Jacobiano:\n",
    "def GetJacobian(f,r,h=1e-3):\n",
    "\n",
    "  n = r.shape[0]\n",
    "\n",
    "  J = np.zeros((n,n))\n",
    "\n",
    "  for i in range(n):\n",
    "    for j in range(n):\n",
    "\n",
    "      rf = r.copy()\n",
    "      rb = r.copy()\n",
    "\n",
    "      rf[j] = rf[j] + h\n",
    "      rb[j] = rb[j] - h\n",
    "\n",
    "      J[i,j] = (f[i](rf[0],rf[1],rf[2],rf[3],rf[4],rf[5],rf[6],rf[7]) - f[i](rb[0],rb[1],rb[2],rb[3],rb[4],rb[5],rb[6],rb[7]))/(2*h)\n",
    "\n",
    "  return J\n",
    "\n",
    "#d) Descenso de gradiente:\n",
    "def Metric(G,r):\n",
    "  return 0.5*np.linalg.norm(GetF(G,r))**2\n",
    "\n",
    "def Minimizer(G, r, lr = 0.01, error = 0.001):\n",
    "\n",
    "  metric = 1.\n",
    "  it = 0\n",
    "\n",
    "  while metric > error:\n",
    "\n",
    "    J = GetJacobian(G,r).T\n",
    "    V = GetF(G,r)\n",
    "\n",
    "    r = r - lr*np.dot(J,V)\n",
    "\n",
    "    metric = Metric(G,r)\n",
    "\n",
    "    #e) Cuando la metrica sea menor a 0.005 ajuste la tasa a γ = 0.001 para tener una solucion mas precisa. \n",
    "    if metric < 0.005:\n",
    "      lr = 0.001\n",
    "    it += 1\n",
    "\n",
    "  return r,it\n",
    "\n",
    "r0 = np.random.uniform(-1., 1., size = 8)"
   ]
  },
  {
   "cell_type": "code",
   "execution_count": 51,
   "metadata": {},
   "outputs": [],
   "source": [
    "M = Minimizer(F, r0)[0]"
   ]
  },
  {
   "cell_type": "code",
   "execution_count": 52,
   "metadata": {},
   "outputs": [
    {
     "name": "stdout",
     "output_type": "stream",
     "text": [
      "f) Estimacion integral:  1.6773093205615097\n"
     ]
    }
   ],
   "source": [
    "#f) Estimacion de la integral\n",
    "W, R = M[0:4], M[4:8]\n",
    "I = 0\n",
    "for i in range(4):\n",
    "    I += W[i]*np.cos(R[i])\n",
    "print('f) Estimacion integral: ', I)\n",
    "\n",
    "#g) Considerando que el problema en R8 puede contener un conjunto grande de minimos locales, \n",
    "# cada vez que se ejecuta el codigo, el descenso de gradiente lleva al vector a un minimo diferente al que se describe por el vector con los pesos y raices de Legendre.\n",
    "# por lo que al generar la cuadratura, no se obtendra una estimacion igual de buena que si se usan los pesos y raices del polinomio. \n",
    "    "
   ]
  }
 ],
 "metadata": {
  "kernelspec": {
   "display_name": "Python 3",
   "language": "python",
   "name": "python3"
  },
  "language_info": {
   "codemirror_mode": {
    "name": "ipython",
    "version": 3
   },
   "file_extension": ".py",
   "mimetype": "text/x-python",
   "name": "python",
   "nbconvert_exporter": "python",
   "pygments_lexer": "ipython3",
   "version": "3.12.5"
  }
 },
 "nbformat": 4,
 "nbformat_minor": 2
}
