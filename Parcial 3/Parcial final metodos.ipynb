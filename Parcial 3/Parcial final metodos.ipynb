{
 "cells": [
  {
   "cell_type": "markdown",
   "metadata": {},
   "source": [
    "Parcial 3:\n",
    "- Problema 2 (cadena de produccion):\n",
    "\n",
    "a) Variables observables:\n",
    "\n",
    "si el producto esta o no en la estacion de produccion, en la estacion de empaque y si ha sido enviado al mercado.\n",
    "\n",
    "b) $S=\\{S_1,S_2,S_3\\}$ tal que $S_1 := \\text{\"Estacion de produccion\"}$, $S_2 := \\text{\"Estacion de empaque\"}$, $S_3 := \\text{\"Mercado\"}$"
   ]
  },
  {
   "cell_type": "code",
   "execution_count": 591,
   "metadata": {},
   "outputs": [],
   "source": [
    "import numpy as np\n",
    "import matplotlib.pyplot as plt\n",
    "from scipy.stats import exponweib"
   ]
  },
  {
   "cell_type": "code",
   "execution_count": 592,
   "metadata": {},
   "outputs": [],
   "source": [
    "# C) Matriz de transicion\n",
    "M = np.array([[0.1, 0.9, 0.0],[0.0, 0.05, 0.95], [0.0, 0.0, 1.0]])"
   ]
  },
  {
   "cell_type": "markdown",
   "metadata": {},
   "source": [
    "(d) Encuentre el estado estable tanto algebraicamente como numericamente\n",
    "\n",
    "Dado $\\pi\\Bbb{P}=\\pi$ con $\\Bbb{P}$ la matriz de transicion:\n",
    "$$\n",
    "\\Bbb{P}=\n",
    "\\begin{pmatrix}\n",
    "0.1 & 0.9 & 0.0 \\\\\n",
    "0.0 & 0.5 & 0.95 \\\\\n",
    "0.0 & 0.0 & 1.0 \\\\\n",
    "\\end{pmatrix}\n",
    "$$\n",
    "Y los estados $\\pi=\\begin{pmatrix}\\pi_1 & \\pi_2 & \\pi_3\\end{pmatrix}$ tal que $\\pi_1+\\pi_2+\\pi_3=1$.\n",
    "Asi aque\n",
    "$$\n",
    "\\begin{pmatrix}\\pi_1 & \\pi_2 & \\pi_3\\end{pmatrix} =\n",
    "\\begin{pmatrix}\\pi_1 & \\pi_2 & \\pi_3\\end{pmatrix}\n",
    "\\begin{pmatrix}\n",
    "0.1 & 0.9 & 0.0 \\\\\n",
    "0.0 & 0.5 & 0.95 \\\\\n",
    "0.0 & 0.0 & 1.0 \\\\\n",
    "\\end{pmatrix}\n",
    "$$\n",
    "Simplificando,\n",
    "$$\n",
    "\\left\\{\n",
    "\\begin{array}{l}\n",
    "\\pi_1 = 0.1\\pi_1\\\\\n",
    "\\pi_2 = 0.9\\pi_1+0.5\\pi_2\\\\\n",
    "\\pi_3 = 0.95\\pi_2+1.0\\pi_3\\\\\n",
    "\\end{array}\n",
    "\\right.\n",
    "$$\n",
    "Entonces $\\begin{pmatrix}\\pi_1 & \\pi_2 & \\pi_3\\end{pmatrix} =\\begin{pmatrix}0.0 & 0.0 & 1.0\\end{pmatrix}$. Por lo que despues de cierto numero de procesos la distribucion de estados permanecera estacionaria y, en este caso, todos los productos terminaran en el mercado y ninguno en la estacion de produccion o empaque."
   ]
  },
  {
   "cell_type": "code",
   "execution_count": 605,
   "metadata": {},
   "outputs": [
    {
     "data": {
      "text/plain": [
       "array([ 0., -0.,  1.])"
      ]
     },
     "execution_count": 605,
     "metadata": {},
     "output_type": "execute_result"
    }
   ],
   "source": [
    "A = np.transpose(M) - np.eye(3)\n",
    "A[-1, :] = 1\n",
    "b = np.array([0, 0, 1])\n",
    "pi = np.linalg.solve(A, b)\n",
    "pi"
   ]
  },
  {
   "cell_type": "code",
   "execution_count": 606,
   "metadata": {},
   "outputs": [
    {
     "name": "stdout",
     "output_type": "stream",
     "text": [
      "La probabilidad en estado estable de que ambas estaciones esten ocupadas al mismo tiempo:  -0.0\n",
      "La probabilidad en estado estable de que al menos una estacion este ocupada:  0.0\n",
      "La probabilidad en estado estable de que la estacion de produccion este vacia:  100.0\n"
     ]
    }
   ],
   "source": [
    "print('La probabilidad en estado estable de que ambas estaciones esten ocupadas al mismo tiempo: ', pi[0] * pi[1]*100)\n",
    "print('La probabilidad en estado estable de que al menos una estacion este ocupada: ', (pi[0] + pi[1])*100)\n",
    "print('La probabilidad en estado estable de que la estacion de produccion este vacia: ', (1-pi[0])*100)"
   ]
  },
  {
   "cell_type": "code",
   "execution_count": 607,
   "metadata": {},
   "outputs": [
    {
     "data": {
      "text/plain": [
       "array([0.02130045, 0.02017937, 0.95852018])"
      ]
     },
     "execution_count": 607,
     "metadata": {},
     "output_type": "execute_result"
    }
   ],
   "source": [
    "#3)\n",
    "M2 = np.array([[0.1, 0.9, 0.0],[0.0, 0.05, 0.95], [0.02, 0.0, 0.98]])\n",
    "A = np.transpose(M2) - np.eye(3)\n",
    "A[-1, :] = 1\n",
    "b = np.array([0, 0, 1])\n",
    "pi2 = np.linalg.solve(A, b)\n",
    "pi2"
   ]
  },
  {
   "cell_type": "code",
   "execution_count": 609,
   "metadata": {},
   "outputs": [
    {
     "name": "stdout",
     "output_type": "stream",
     "text": [
      "La probabilidad en estado estable de que ambas estaciones esten ocupadas al mismo tiempo:  0.04298296768485203\n",
      "La probabilidad en estado estable de que al menos una estacion este ocupada:  4.147982062780276\n",
      "La probabilidad en estado estable de que la estacion de produccion este vacia:  97.86995515695067\n"
     ]
    }
   ],
   "source": [
    "print('La probabilidad en estado estable de que ambas estaciones esten ocupadas al mismo tiempo: ', pi2[0] * pi2[1]*100)\n",
    "print('La probabilidad en estado estable de que al menos una estacion este ocupada: ', (pi2[0] + pi2[1])*100)\n",
    "print('La probabilidad en estado estable de que la estacion de produccion este vacia: ', (1-pi2[0])*100)"
   ]
  },
  {
   "cell_type": "code",
   "execution_count": 597,
   "metadata": {},
   "outputs": [],
   "source": [
    "#4. (Tiempo de escape de un foton del sol)\n",
    "#a)\n",
    "def Get_photons(N=1000):\n",
    "    photons = np.zeros(N)\n",
    "    for i in range(N):\n",
    "        path = False\n",
    "        n = 0\n",
    "        x, y, z = 0., 0., 0.\n",
    "        while not path:\n",
    "            theta = np.random.uniform(0,np.pi)\n",
    "            phi = np.random.uniform(0,2*np.pi)\n",
    "            x += 0.1*np.sin(theta)*np.cos(phi)\n",
    "            y += 0.1*np.sin(theta)*np.sin(phi)\n",
    "            z += 0.1*np.cos(theta)\n",
    "            if np.sqrt(x**2 + y**2 + z**2 > 1): \n",
    "                path = True\n",
    "            else:\n",
    "                n += 1\n",
    "        photons[i] = n\n",
    "    return photons\n"
   ]
  },
  {
   "cell_type": "code",
   "execution_count": 598,
   "metadata": {},
   "outputs": [
    {
     "data": {
      "text/plain": [
       "<BarContainer object of 19 artists>"
      ]
     },
     "execution_count": 598,
     "metadata": {},
     "output_type": "execute_result"
    },
    {
     "data": {
      "image/png": "[encoded data removed]",
      "text/plain": [
       "<Figure size 640x480 with 1 Axes>"
      ]
     },
     "metadata": {},
     "output_type": "display_data"
    }
   ],
   "source": [
    "Photons = Get_photons()\n",
    "x = np.linspace(np.min(Photons),np.max(Photons),20)\n",
    "h,bins = np.histogram(Photons,bins=x)\n",
    "w = np.diff(bins)\n",
    "I = np.sum(w*h)\n",
    "hnorm = h/I\n",
    "plt.bar(bins[:-1],hnorm,color='#add8e6',width=w,ec='k')"
   ]
  },
  {
   "cell_type": "code",
   "execution_count": 599,
   "metadata": {},
   "outputs": [
    {
     "name": "stdout",
     "output_type": "stream",
     "text": [
      "Calcule el valor esperado del numero de pasos que le toma al foton escapar: 90.61157894736841\n",
      "Verifique que el numero medio de pasos medio es aproximadamente E(n)= 100.0\n"
     ]
    }
   ],
   "source": [
    "#e)\n",
    "print('Calcule el valor esperado del numero de pasos que le toma al foton escapar:', (h/1000)@bins[:-1])\n",
    "#f)\n",
    "print('Verifique que el numero medio de pasos medio es aproximadamente E(n)=', (1/0.1)**2)"
   ]
  },
  {
   "cell_type": "markdown",
   "metadata": {},
   "source": [
    "¿Cuantos años le toma al foton escapar?\n",
    "$$\n",
    "\\bar{T}=\\frac{R^2_s}{lc}\\approx\\frac{(700000\\,km)^2}{(6*10^{-6}\\,km)(300000\\,km/s)}=2.72*10^{11}\\,s=8632\\,y\n",
    "$$"
   ]
  },
  {
   "cell_type": "code",
   "execution_count": 600,
   "metadata": {},
   "outputs": [
    {
     "data": {
      "image/png": "[encoded data removed]",
      "text/plain": [
       "<Figure size 640x480 with 1 Axes>"
      ]
     },
     "metadata": {},
     "output_type": "display_data"
    }
   ],
   "source": [
    "a,c,d,e = exponweib.fit(Photons)\n",
    "plt.bar(bins[:-1],hnorm,color='#add8e6',width=w,ec='k')\n",
    "W = np.linspace(0,np.max(Photons),500)\n",
    "plt.plot(W, exponweib.pdf(W, a, c, d, e), '--', color = 'r')\n",
    "plt.show()"
   ]
  }
 ],
 "metadata": {
  "kernelspec": {
   "display_name": "Python 3",
   "language": "python",
   "name": "python3"
  },
  "language_info": {
   "codemirror_mode": {
    "name": "ipython",
    "version": 3
   },
   "file_extension": ".py",
   "mimetype": "text/x-python",
   "name": "python",
   "nbconvert_exporter": "python",
   "pygments_lexer": "ipython3",
   "version": "3.12.5"
  }
 },
 "nbformat": 4,
 "nbformat_minor": 2
}
