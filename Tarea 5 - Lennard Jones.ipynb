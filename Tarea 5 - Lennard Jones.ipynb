{
 "cells": [
  {
   "cell_type": "code",
   "execution_count": 233,
   "metadata": {},
   "outputs": [],
   "source": [
    "import numpy as np\n",
    "import matplotlib.pyplot as plt\n",
    "from IPython.display import clear_output\n",
    "import time\n",
    "import copy\n",
    "from tqdm import tqdm"
   ]
  },
  {
   "cell_type": "code",
   "execution_count": 234,
   "metadata": {},
   "outputs": [],
   "source": [
    "'''\n",
    "Encontrar la configuración que adopta un sistema de N=50 partículas que interacutan con un potencial de lennar Jonnes. \n",
    "Use el algoritmo genético para minimizar la energía total del sistema: Use la siguiente definición de potencial y de energía: \n",
    "(Estos no son métodos de clase , Cuidado!)\n",
    "'''\n",
    "def LennardJones(r, epsilon=1, sigma=1):\n",
    "    \"\"\"\n",
    "    Potencial de Lennard-Jones para dos partículas a una distancia r.\n",
    "    \"\"\"\n",
    "    return 4 * epsilon * ((sigma / r)**12 - (sigma / r)**6)\n",
    "\n",
    "def TotalEnergy(positions, epsilon=1, sigma=1):\n",
    "    \"\"\"\n",
    "    Calcula la energía total de un sistema de partículas en posiciones dadas.\n",
    "    \"\"\"\n",
    "    N = len(positions)\n",
    "    energy = 0\n",
    "    for i in range(N):\n",
    "        for j in range(i + 1, N):\n",
    "            r = np.linalg.norm(positions[i] - positions[j])  # Distancia entre partículas\n",
    "            if r != 0:\n",
    "                energy += LennardJones(r, epsilon, sigma)\n",
    "    return energy"
   ]
  },
  {
   "cell_type": "code",
   "execution_count": 235,
   "metadata": {},
   "outputs": [],
   "source": [
    "class Robot:\n",
    "\n",
    "    def __init__(self, f, Id, num_particles = 50, rate=0.01):\n",
    "\n",
    "        self.Id = Id\n",
    "        # Mutation Rate\n",
    "        self.rate = rate\n",
    "        self.Fitness = np.inf\n",
    "\n",
    "        # Funcion a minimizar\n",
    "        self.f = f\n",
    "\n",
    "        # Espacio de parámetros\n",
    "        self.r = np.random.uniform(-5, 5, size=(num_particles, 3))\n",
    "\n",
    "    def Mutate(self):\n",
    "\n",
    "        self.r += np.random.normal(0, self.rate, size=self.r.shape)\n",
    "\n",
    "    def GetR(self):\n",
    "        return self.r\n",
    "\n",
    "    def SetFitness(self):\n",
    "        self.Fitness = self.f(self.r)\n",
    "\n",
    "        # Fine tunning\n",
    "        if self.Fitness < 0.05:\n",
    "            self.rate = 0.005\n",
    "\n",
    "\n",
    "    def GetFitness(self):\n",
    "        return self.Fitness"
   ]
  },
  {
   "cell_type": "code",
   "execution_count": 236,
   "metadata": {},
   "outputs": [],
   "source": [
    "def GetRobots(N):\n",
    "\n",
    "    Robots = []\n",
    "\n",
    "    for i in range(N):\n",
    "        r = Robot(f=TotalEnergy,Id=i)\n",
    "        Robots.append(r)\n",
    "\n",
    "    return Robots"
   ]
  },
  {
   "cell_type": "code",
   "execution_count": 237,
   "metadata": {},
   "outputs": [],
   "source": [
    "\n",
    "def Plotter(e):\n",
    "\n",
    "    fig = plt.figure(figsize=(10,5))\n",
    "    ax = fig.add_subplot(121)\n",
    "    ax.set_title('Epoch={:.0f}'.format(e))\n",
    "\n",
    "    return ax\n",
    "\n",
    "\n",
    "def Genetic(Robots, epochs = 200):\n",
    "\n",
    "\n",
    "    # Guardamos los mas aptos\n",
    "    N = int(0.5*len(Robots))\n",
    "\n",
    "    # Mirar la aptitud más pequeña en cada epoca\n",
    "    Fitness = np.array([])\n",
    "    \n",
    "    for e in range(int(epochs)):\n",
    "\n",
    "        # actualizamos informaicíón\n",
    "        for i,p in enumerate(Robots):\n",
    "            \n",
    "            p.Mutate()\n",
    "            p.SetFitness()\n",
    "\n",
    "        #clear_output(wait=True)\n",
    "\n",
    "\n",
    "        # Ordenamos los robots por fitness\n",
    "        scores = [ (p.Fitness, p) for p in Robots ]\n",
    "        scores.sort(key = lambda x: x[0], reverse = False) # De menor a mayor\n",
    "\n",
    "        # Tomamos lo incides hasta el % porciento\n",
    "        Temp = [r[1] for i,r in enumerate(scores) if i < N ]\n",
    "\n",
    "        for i in range(int(0.1 * len(Robots))):  # Un 10% de los robots se reintroducen aleatoriamente\n",
    "            Robots[i] = Robot(TotalEnergy, i)\n",
    "        \n",
    "        for i,r in enumerate(Robots):\n",
    "            j = i%N\n",
    "            Robots[i] = copy.deepcopy(Temp[j])\n",
    "\n",
    "\n",
    "        # Miramos el fitness de cada robot\n",
    "        Fitness_ = [ r.GetFitness() for i,r in enumerate(Robots) ]\n",
    "\n",
    "        # Guardamos la aptitud promedio\n",
    "        Fitness = np.append(Fitness,np.mean(Fitness_))\n",
    "\n",
    "        #ax.legend(loc='upper center', ncol=1, bbox_to_anchor=(-0.2,0.9),frameon=False,fontsize=10)\n",
    "        if e % 10 == 0:\n",
    "            clear_output(wait=True)\n",
    "            # Imagen para pintar\n",
    "            ax = Plotter(e)\n",
    "\n",
    "            # Funcion de Fitness\n",
    "            ax.plot(Fitness,color='k')\n",
    "            ax.set_xlabel('Epoch')\n",
    "            ax.legend(loc=1)\n",
    "\n",
    "            plt.show()\n",
    "    return Fitness[-1]\n",
    "     "
   ]
  },
  {
   "cell_type": "code",
   "execution_count": 238,
   "metadata": {},
   "outputs": [
    {
     "data": {
      "image/png": "[encoded data removed]",
      "text/plain": [
       "<Figure size 1000x500 with 1 Axes>"
      ]
     },
     "metadata": {},
     "output_type": "display_data"
    },
    {
     "data": {
      "text/plain": [
       "np.float64(-21.555937177867076)"
      ]
     },
     "execution_count": 238,
     "metadata": {},
     "output_type": "execute_result"
    }
   ],
   "source": [
    "Robots = GetRobots(50)\n",
    "Genetic(Robots)"
   ]
  }
 ],
 "metadata": {
  "kernelspec": {
   "display_name": "Python 3",
   "language": "python",
   "name": "python3"
  },
  "language_info": {
   "codemirror_mode": {
    "name": "ipython",
    "version": 3
   },
   "file_extension": ".py",
   "mimetype": "text/x-python",
   "name": "python",
   "nbconvert_exporter": "python",
   "pygments_lexer": "ipython3",
   "version": "3.12.5"
  }
 },
 "nbformat": 4,
 "nbformat_minor": 2
}
