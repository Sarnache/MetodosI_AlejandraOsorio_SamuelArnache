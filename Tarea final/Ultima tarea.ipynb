{
 "cells": [
  {
   "cell_type": "code",
   "execution_count": 232,
   "metadata": {},
   "outputs": [],
   "source": [
    "import numpy as np\n",
    "from IPython.display import Image, display\n",
    "from IPython.display import display, Math\n",
    "import matplotlib.pyplot as plt\n",
    "import math\n",
    "from itertools import permutations\n",
    "from itertools import combinations\n",
    "from itertools import combinations_with_replacement\n",
    "import itertools\n"
   ]
  },
  {
   "cell_type": "markdown",
   "metadata": {},
   "source": [
    "**Ejercicios Axiomas de probabilidad**"
   ]
  },
  {
   "cell_type": "markdown",
   "metadata": {},
   "source": [
    "**1. Verificar que $( P = a_1P_1 + a_2P_2)$ es una medida de probabilidad mediante los tres axiomas de Kolmogorov**\n",
    "\n",
    "1. No negatividad\n",
    "Dado que $( P_1 )$ y $( P_2 )$ son medidas de probabilidad, se cumple que:\n",
    "$$\n",
    "P_1(A) \\geq 0 \\quad \\text{y} \\quad P_2(A) \\geq 0 \\quad \\text{para cualquier evento } A.\n",
    "$$\n",
    "Además, como $( a_1, a_2 \\text{ in } \\mathbb{R}^+ )$, es decir, $( a_1, a_2 \\geq 0 )$, entonces:\n",
    "$$\n",
    "P(A) = a_1P_1(A) + a_2P_2(A) \\geq 0.\n",
    "$$\n",
    "Por lo tanto, $( P(A) \\geq 0 )$ para todo $( A )$, y se cumple este axioma.\n",
    "\n",
    "2. Normalización\n",
    "Sabemos que $( P_1(\\Omega) = 1 )$ y $( P_2(\\Omega) = 1 )$, porque $( P_1 )$ y $( P_2 )$ son medidas de probabilidad. Entonces:\n",
    "$$\n",
    "P(\\Omega) = a_1P_1(\\Omega) + a_2P_2(\\Omega) = a_1(1) + a_2(1) = a_1 + a_2.\n",
    "$$\n",
    "Dado que $( a_1 + a_2 = 1 )$, se tiene $( P(\\Omega) = 1 )$, y este axioma se cumple.\n",
    "\n",
    "3. Aditividad contable\n",
    "Sea $( \\{A_i\\}_{i=1}^\\infty )$ una colección de eventos disjuntos, es decir, $( A_i \\cap A_j = \\emptyset )$ para $( i \\neq j )$. Por definición de $( P )$:\n",
    "$$\n",
    "P\\left(\\bigcup_{i=1}^\\infty A_i\\right) = a_1P_1\\left(\\bigcup_{i=1}^\\infty A_i\\right) + a_2P_2\\left(\\bigcup_{i=1}^\\infty A_i\\right).\n",
    "$$\n",
    "Como $( P_1 )$ y $( P_2 )$ son medidas de probabilidad, cumplen la aditividad contable:\n",
    "$$\n",
    "P_1\\left(\\bigcup_{i=1}^\\infty A_i\\right) = \\sum_{i=1}^\\infty P_1(A_i), \\quad P_2\\left(\\bigcup_{i=1}^\\infty A_i\\right) = \\sum_{i=1}^\\infty P_2(A_i).\n",
    "$$\n",
    "Por lo tanto:\n",
    "$$\n",
    "P\\left(\\bigcup_{i=1}^\\infty A_i\\right) = a_1 \\sum_{i=1}^\\infty P_1(A_i) + a_2 \\sum_{i=1}^\\infty P_2(A_i).\n",
    "$$\n",
    "Reorganizando, obtenemos:\n",
    "$$\n",
    "P\\left(\\bigcup_{i=1}^\\infty A_i\\right) = \\sum_{i=1}^\\infty \\left(a_1P_1(A_i) + a_2P_2(A_i)\\right) = \\sum_{i=1}^\\infty P(A_i).\n",
    "$$\n",
    "Por lo tanto, se cumple la aditividad contable.\n",
    "\n",
    "$\\textbf{Conclusión}$: \n",
    "Dado que $( P = a_1P_1 + a_2P_2 )$ cumple los tres axiomas de Kolmogorov. $( P )$ es una medida de probabilidad.\n"
   ]
  },
  {
   "cell_type": "markdown",
   "metadata": {},
   "source": [
    "**2. Sea $Ω =  \\{1, 2\\} $, $\\mathcal{F} = σ(Ω)$ y $P$ una aplicación definida sobre $\\mathcal{F}$ dada por**\n",
    "1. No negatividad  \n",
    "Dado que $( P(\\emptyset) = 0 )$, $( P(\\{1\\}) = \\frac{1}{3} ), ( P(\\{2\\}) = \\frac{2}{3} ) y ( P(\\{1, 2\\}) = 1 )$, todos los valores asignados por $( P )$ son no negativos:  \n",
    "$$\n",
    "P(\\emptyset) = 0 \\geq 0, \\quad P(\\{1\\}) = \\frac{1}{3} \\geq 0, \\quad P(\\{2\\}) = \\frac{2}{3} \\geq 0, \\quad P(\\{1, 2\\}) = 1 \\geq 0.\n",
    "$$  \n",
    "Por lo tanto, $( P(A) \\geq 0 )$ para todo $( A \\in \\mathcal{F} )$, y se cumple este axioma.\n",
    "\n",
    "2. Normalización  \n",
    "Sabemos que $( \\Omega = \\{1, 2\\} )$. Por definición de $( P )$:  \n",
    "$$\n",
    "P(\\Omega) = P(\\{1, 2\\}) = 1.\n",
    "$$  \n",
    "Dado que la probabilidad asignada al espacio muestral completo es 1, se cumple este axioma.\n",
    "\n",
    "3. Aditividad contable  \n",
    "Consideremos $( A, B \\in \\mathcal{F} ) \\text{tales que} ( A \\cap B = \\emptyset )$. Por ejemplo:  \n",
    "Sea $( A = \\{1\\} )$ y $( B = \\{2\\} )$, entonces:  \n",
    "$$\n",
    "P(A \\cup B) = P(\\{1\\} \\cup \\{2\\}) = P(\\{1, 2\\}) = 1.\n",
    "$$  \n",
    "Y, por la definición de $( P )$:  \n",
    "$$\n",
    "P(A) + P(B) = P(\\{1\\}) + P(\\{2\\}) = \\frac{1}{3} + \\frac{2}{3} = 1.\n",
    "$$  \n",
    "Por lo tanto:\n",
    "$$\n",
    "P(A \\cup B) = P(A) + P(B).\n",
    "$$  \n",
    "Dado que $( \\mathcal{F} )$ contiene únicamente conjuntos finitos, el caso de aditividad contable se reduce a una suma finita, la cual $( P )$ satisface.\n",
    "\n",
    "$\\textbf{Conclusión}$:  \n",
    "Dado que $( P )$ cumple los tres axiomas de Kolmogorov, concluimos que $( P )$ es una medida de probabilidad.\n"
   ]
  },
  {
   "cell_type": "markdown",
   "metadata": {},
   "source": [
    "**3. Sea $(Ω, \\mathcal{F}, P)$ un espacio de probabilidad. Demuestre las siguientes propiedades básicas**  \n",
    "  \n",
    "a) $P(\\emptyset)=0$ la probabilidad de que algo suceda según el primer axioma: $P(S) \\geq 0$ para cualquier suceso $S$, dado que $\\emptyset$ es el espacio nulo, la probabilidad de que suceda algo imposible corresponde a $0$.  \n",
    "  \n",
    "b) $P(A^{c}) = 1 − P(A)$ la nomenclatura $A^{c}$ implica la probabilidad de que no ocurra el suceso $A$, es que decir que $A^{c}$ es el complemento de $A$, siendo $A^{c}=\\{b \\in U: b \\notin A\\}$, dado que la probabilidad esta normalizada y su máximo valor corresponde por ende a $1$, la  $P(A^{c})$ implica restarle a la máxima probabilidad $P(A)$.   \n",
    "  \n",
    "c) Sea $( A, B \\in \\mathcal{F} )$ tales que $( A \\subset B )$. Entonces el conjunto $( B - A ) (\\text{ o } ( B \\setminus A ))$ está definido como:\n",
    "$$\n",
    "B - A = \\{x \\in B : x \\notin A\\}.\n",
    "$$\n",
    "Por lo tanto, $( A \\cap (B - A) = \\emptyset )$, es decir, $( A ) \\text{ y } ( B - A )$ son eventos disjuntos, y:\n",
    "$$\n",
    "B = A \\cup (B - A).\n",
    "$$\n",
    "\n",
    "Por el axioma de aditividad contable, si dos eventos son disjuntos, la probabilidad de su unión es igual a la suma de sus probabilidades:\n",
    "$$\n",
    "P(B) = P(A \\cup (B - A)) = P(A) + P(B - A).\n",
    "$$\n",
    "\n",
    "\n",
    "Dado que $( A \\subset B )$ implica que $( B = A \\cup (B - A) )$ con $( A \\cap (B - A) = \\emptyset )$, hemos demostrado que:\n",
    "$$\n",
    "P(B) = P(A) + P(B - A).\n",
    "$$\n",
    "  \n",
    "d) Dado un evento $A, P(A) ≤ 1, ∀A ∈ \\mathcal{F}$   \n",
    "\n",
    "Normalización: El primer axioma establece que $( P(\\Omega) = 1 )$, donde $( \\Omega )$ es el espacio muestral y $( \\Omega \\in \\mathcal{F} )$. Esto implica que la probabilidad total no puede exceder $ 1$.\n",
    "    \n",
    "No negatividad: El segundo axioma señala que $( P(A) \\geq 0 )$ para todo $( A \\in \\mathcal{F} )$.\n",
    "    \n",
    "Monotonía: Si $( A \\subseteq \\Omega )$, entonces $( P(A) \\leq P(\\Omega) )$. Dado que $( P(\\Omega) = 1 )$, se sigue que:\n",
    "$P(A) \\leq 1$.\n",
    "\n",
    "Por lo tanto, combinando los axiomas de normalización y no negatividad, concluimos que para todo $( A \\in \\mathcal{F} )$:\n",
    "$$\n",
    "0 \\leq P(A) \\leq 1.\n",
    "$$  \n",
    "  \n",
    "\n",
    "e) $A ⊆ B$, entonces $P(A) ≤ P(B)$   \n",
    "  \n",
    "Dado que $(A \\subseteq B)$, podemos escribir $(B)$ como:  \n",
    "$$ \n",
    "B = A \\cup (B - A), \n",
    "$$  \n",
    "donde $(B - A = \\{x \\in B : x \\notin A\\})$.\n",
    "\n",
    "Por el axioma de aditividad para eventos disjuntos:  \n",
    "$$ \n",
    "P(B) = P(A) + P(B - A).\n",
    "$$\n",
    "\n",
    "Dado que $(P(B - A) \\geq 0)$ por la no negatividad de la probabilidad:  \n",
    "$$\n",
    "P(B) \\geq P(A).\n",
    "$$\n",
    "\n",
    "Por lo tanto, si $(A \\subseteq B)$, entonces:  \n",
    "$$ \n",
    "P(A) \\leq P(B).\n",
    "$$"
   ]
  },
  {
   "cell_type": "markdown",
   "metadata": {},
   "source": [
    "f) $(P(A \\cup B) = P(A) + P(B) - P(A \\cap B)$:\n",
    "\n",
    "La unión de dos eventos $(A)$ y $(B)$ puede expresarse como:  \n",
    "$$\n",
    "A \\cup B = A + B - (A \\cap B),\n",
    "$$  \n",
    "donde $(A \\cap B)$ es el conjunto de elementos que están en ambos eventos.\n",
    "\n",
    "Por el axioma de aditividad, la probabilidad de la unión se calcula como:  \n",
    "$$\n",
    "P(A \\cup B) = P(A) + P(B) - P(A \\cap B).\n",
    "$$\n",
    "\n",
    "g) $(P(A \\cup B \\cup C) = P(A) + P(B) + P(C) - P(A \\cap B) - P(A \\cap C) - P(B \\cap C) + P(A \\cap B \\cap C)$:\n",
    "\n",
    "Por el principio de inclusión-exclusión, la probabilidad de la unión de tres eventos es:  \n",
    "$$\n",
    "P(A \\cup B \\cup C) = P(A) + P(B) + P(C) - P(A \\cap B) - P(A \\cap C) - P(B \\cap C) + P(A \\cap B \\cap C).\n",
    "$$\n",
    "\n",
    "Esto asegura que las intersecciones de pares de eventos se restan para evitar sobrecontar, y la intersección de los tres eventos se suma para corregir la sobrecorrección.\n",
    "\n",
    "h) Probabilidad de la diferencia:\n",
    "\n",
    "Sea $A - B = A \\cap B^c$, entonces la probabilidad de la diferencia se define como:  \n",
    "$$\n",
    "P(A - B) = P(A \\cap B^c).\n",
    "$$\n",
    "\n",
    "Dado que $B^c = \\{x \\in \\Omega : x \\notin B\\}$, por el axioma de aditividad se tiene:  \n",
    "$$\n",
    "P(A) = P(A \\cap B) + P(A \\cap B^c).\n",
    "$$\n",
    "\n",
    "Reorganizando, obtenemos:  \n",
    "$$\n",
    "P(A - B) = P(A) - P(A \\cap B).\n",
    "$$\n",
    "\n",
    "i) Probabilidad de la diferencia simétrica:\n",
    "\n",
    "Sea la diferencia simétrica $(A - B) \\cup (B - A) = (A \\cap B^c) \\cup (B \\cap A^c)$.\n",
    "\n",
    "Por el axioma de aditividad para eventos disjuntos:  \n",
    "$$\n",
    "P((A \\cap B^c) \\cup (B \\cap A^c)) = P(A \\cap B^c) + P(B \\cap A^c).\n",
    "$$\n",
    "\n",
    "Usando que:  \n",
    "$$\n",
    "P(A \\cap B^c) = P(A) - P(A \\cap B), \\quad P(B \\cap A^c) = P(B) - P(A \\cap B),\n",
    "$$  \n",
    "sustituyendo:  \n",
    "$$\n",
    "P((A \\cap B^c) \\cup (B \\cap A^c)) = (P(A) - P(A \\cap B)) + (P(B) - P(A \\cap B)).\n",
    "$$\n",
    "\n",
    "Simplificando:  \n",
    "$$\n",
    "P((A \\cap B^c) \\cup (B \\cap A^c)) = P(A) + P(B) - 2P(A \\cap B).\n",
    "$$\n",
    "\n",
    "Esto representa la probabilidad de que ocurra $(A)$ o $(B)$, pero no ambos simultáneamente.\n"
   ]
  },
  {
   "cell_type": "markdown",
   "metadata": {},
   "source": [
    "<img src=\"Diagramas de Venn.jpeg\">"
   ]
  },
  {
   "cell_type": "markdown",
   "metadata": {},
   "source": [
    "<img src=\"Teorema de Bayes Ej 2.jpeg\">"
   ]
  },
  {
   "cell_type": "markdown",
   "metadata": {},
   "source": [
    "Para el punto b, se busca volver a hacer el procedimiento, solo qué variando los parametros, antes $x_{1}=4$ sin embargo, ahora $x_{2}=5$. Para ello se generan las siguientes funciones, en este caso la probabilidad Prior esta dada por la calculada anteriormente, que corresponde a: $Π=(0.07101262, 0.31348898, 0.38922576, 0.22627264)$"
   ]
  },
  {
   "cell_type": "code",
   "execution_count": 233,
   "metadata": {},
   "outputs": [],
   "source": [
    "Poisson = lambda l,x: l**x*np.exp(-l)/np.math.factorial(x)\n",
    "\n",
    "Prior=np.array([0.07101262, 0.31348898, 0.38922576, 0.22627264])\n",
    "lambda_=np.array([1,2,3,4])"
   ]
  },
  {
   "cell_type": "code",
   "execution_count": 234,
   "metadata": {},
   "outputs": [
    {
     "data": {
      "text/latex": [
       "$\\displaystyle  \\text{ a. La primer aproximación del parámetro } \\hat{\\lambda} \\text{ es: } 2.77075842$"
      ],
      "text/plain": [
       "<IPython.core.display.Math object>"
      ]
     },
     "metadata": {},
     "output_type": "display_data"
    }
   ],
   "source": [
    "Total = np.sum(Prior*lambda_)\n",
    "display(Math(r\" \\text{ a. La primer aproximación del parámetro } \\hat{\\lambda} \\text{ es: } \" + str(Total)))"
   ]
  },
  {
   "cell_type": "code",
   "execution_count": 235,
   "metadata": {},
   "outputs": [
    {
     "name": "stdout",
     "output_type": "stream",
     "text": [
      "b. la función de verosimilitud de la observación para cada modelo es :  [0.00306566 0.03608941 0.10081881 0.15629345]\n"
     ]
    }
   ],
   "source": [
    "Likelihood = Poisson(lambda_,5)\n",
    "Likelihood \n",
    "print(\"b. la función de verosimilitud de la observación para cada modelo es : \",Likelihood)"
   ]
  },
  {
   "cell_type": "code",
   "execution_count": 236,
   "metadata": {},
   "outputs": [
    {
     "name": "stdout",
     "output_type": "stream",
     "text": [
      "c. La función de distribución posterior para cada modelo corresponde a:  [0.00252736 0.1313438  0.45556534 0.41056351]\n"
     ]
    }
   ],
   "source": [
    "numerador=Likelihood*Prior\n",
    "denominador=np.sum(numerador)\n",
    "\n",
    "Posterior=numerador/denominador\n",
    "\n",
    "print(\"c. La función de distribución posterior para cada modelo corresponde a: \", Posterior)"
   ]
  },
  {
   "cell_type": "code",
   "execution_count": 237,
   "metadata": {},
   "outputs": [
    {
     "name": "stdout",
     "output_type": "stream",
     "text": [
      "d. La distribución se encuentra normalizada, puesto que al sumar los valores de la función de distribución posterior se llega a: 1.0\n"
     ]
    }
   ],
   "source": [
    "#Para verificar que esta normalizada\n",
    "norm=np.sum(Posterior)\n",
    "print(\"d. La distribución se encuentra normalizada, puesto que al sumar los valores de la función de distribución posterior se llega a:\", norm)"
   ]
  },
  {
   "cell_type": "code",
   "execution_count": 238,
   "metadata": {},
   "outputs": [
    {
     "data": {
      "text/latex": [
       "$\\displaystyle  \\text{ e. El modelo que más probablemente explique los datos es:  } \\hat{\\lambda} = 3$"
      ],
      "text/plain": [
       "<IPython.core.display.Math object>"
      ]
     },
     "metadata": {},
     "output_type": "display_data"
    }
   ],
   "source": [
    "index_max_posterior = np.argmax(Posterior)\n",
    "lambda_max = lambda_[index_max_posterior]\n",
    "display(Math(r\" \\text{ e. El modelo que más probablemente explique los datos es:  } \\hat{\\lambda} = \" + f\"{lambda_max}\"))"
   ]
  },
  {
   "cell_type": "code",
   "execution_count": 239,
   "metadata": {},
   "outputs": [
    {
     "name": "stdout",
     "output_type": "stream",
     "text": [
      "El mejor parámetro al aplicar la distribucción de Poisson es: 3.27\n"
     ]
    }
   ],
   "source": [
    "mejor_parametro=np.sum(lambda_*Posterior)\n",
    "print(\"El mejor parámetro al aplicar la distribucción de Poisson es:\", str(round(mejor_parametro,2)))"
   ]
  },
  {
   "cell_type": "markdown",
   "metadata": {},
   "source": [
    "**4. Un haz de partículas compuesto por electrones, protones y partículas α, atraviesa un detector de partículas**"
   ]
  },
  {
   "cell_type": "markdown",
   "metadata": {},
   "source": [
    "a) Densidad de probabilidad a priori $Π(D/p)$\n",
    "La probabilidad para cada tipo de partícula dada la relación 2,1,1 para los eléctrones, protones y partículas alpha es: \n",
    "$$\n",
    "P(e)=\\frac{2}{2+1+1}\n",
    "$$\n",
    "$$\n",
    "P(p)=P(\\alpha)=\\frac{1}{2+1+1}\n",
    "$$"
   ]
  },
  {
   "cell_type": "code",
   "execution_count": 240,
   "metadata": {},
   "outputs": [
    {
     "data": {
      "text/latex": [
       "$\\displaystyle \\text{a. Densidad de probabilidad a priori } \\, \\Pi(D/p) = \\{ P(Electrón) = 0.50, P(Protón) = 0.25, P(Alpha) = 0.25 \\}$"
      ],
      "text/plain": [
       "<IPython.core.display.Math object>"
      ]
     },
     "metadata": {},
     "output_type": "display_data"
    }
   ],
   "source": [
    "escalas = {'Electrón': 2, 'Protón': 1, 'Alpha': 1}\n",
    "valor_escalas=np.array([2,1,1])\n",
    "total_flux = sum(valor_escalas)\n",
    "prior_prob = {k: v / total_flux for k, v in escalas.items()}\n",
    "prior=valor_escalas/total_flux\n",
    "\n",
    "prior_prob_latex = \", \".join([f\"P({k}) = {v:.2f}\" for k, v in prior_prob.items()])\n",
    "latex_equation = rf\"\\text{{a. Densidad de probabilidad a priori }} \\, \\Pi(D/p) = \\{{ {prior_prob_latex} \\}}\"\n",
    "display(Math(latex_equation))"
   ]
  },
  {
   "cell_type": "code",
   "execution_count": 241,
   "metadata": {},
   "outputs": [
    {
     "name": "stdout",
     "output_type": "stream",
     "text": [
      "b. Probabilidad de detección P(D): 0.65\n"
     ]
    }
   ],
   "source": [
    "# Eficiencias de detección\n",
    "eficiencia=np.array([0.9,0.6,0.2])\n",
    "P_D = np.sum(prior * eficiencia)\n",
    "print(f\"b. Probabilidad de detección P(D): {P_D}\")\n"
   ]
  },
  {
   "cell_type": "code",
   "execution_count": 242,
   "metadata": {},
   "outputs": [
    {
     "name": "stdout",
     "output_type": "stream",
     "text": [
      "c. Probabilidades posteriores: [0.69230769 0.23076923 0.07692308]\n"
     ]
    }
   ],
   "source": [
    "posterior_probabilities=(prior*eficiencia)/P_D\n",
    "print(\"c. Probabilidades posteriores:\", posterior_probabilities)"
   ]
  },
  {
   "cell_type": "code",
   "execution_count": 243,
   "metadata": {},
   "outputs": [
    {
     "name": "stderr",
     "output_type": "stream",
     "text": [
      "C:\\Users\\aleja\\AppData\\Local\\Temp\\ipykernel_19400\\3793641967.py:1: MatplotlibDeprecationWarning: The 'use_line_collection' parameter of stem() was deprecated in Matplotlib 3.6 and will be removed two minor releases later. If any parameter follows 'use_line_collection', they should be passed as keyword, not positionally.\n",
      "  plt.stem(escalas.keys(), posterior_probabilities, use_line_collection=True)\n"
     ]
    },
    {
     "data": {
      "image/png": "[encoded data removed]",
      "text/plain": [
       "<Figure size 640x480 with 1 Axes>"
      ]
     },
     "metadata": {},
     "output_type": "display_data"
    },
    {
     "name": "stdout",
     "output_type": "stream",
     "text": [
      "La probabilidad posterior de cada partícula correponde a: \n",
      "Electrón: 0.6923\n",
      "Protón: 0.2307\n",
      "Alpha 0.0076\n"
     ]
    }
   ],
   "source": [
    "plt.stem(escalas.keys(), posterior_probabilities, use_line_collection=True)\n",
    "plt.title(\"Función de Probabilidad Posterior\")\n",
    "plt.xlabel(\"Partículas\")\n",
    "plt.ylabel(\"P(p/D)\")\n",
    "plt.show()\n",
    "\n",
    "print(\"La probabilidad posterior de cada partícula correponde a: \\nElectrón: 0.6923\\nProtón: 0.2307\\nAlpha 0.0076\")"
   ]
  },
  {
   "cell_type": "markdown",
   "metadata": {},
   "source": [
    "**Técnicas de conteo**"
   ]
  },
  {
   "cell_type": "code",
   "execution_count": 244,
   "metadata": {},
   "outputs": [],
   "source": [
    "def variacion_sin_repeticion(n,r):\n",
    "    return math.factorial(n)/math.factorial(n-r)\n",
    "\n",
    "def variacion_CON_repeticion(n,r):\n",
    "    return n**r\n",
    "\n",
    "def permutaciones_sin_repeticion(n):\n",
    "    return math.factorial(n)\n",
    "\n",
    "def permutaciones_CON_repeticion(n_a):\n",
    "    denominador = 1\n",
    "    n = np.sum(n_a)  # Total de letras\n",
    "    for i in range(len(n_a)):\n",
    "        denominador *= math.factorial(n_a[i])\n",
    "    return math.factorial(n) / denominador\n",
    "\n",
    "#n_a=np.array([2,3,4])\n",
    "\n",
    "def combinaciones_sin_repeticion(n,r):\n",
    "    return math.factorial(n) / (math.factorial(r) * math.factorial(n - r))\n",
    "\n",
    "def combinaciones_CON_repeticion(n,r):\n",
    "    return (math.factorial((n+r-1)))/((math.factorial(r))*(math.factorial(n-1)))\n"
   ]
  },
  {
   "cell_type": "code",
   "execution_count": 245,
   "metadata": {},
   "outputs": [
    {
     "name": "stdout",
     "output_type": "stream",
     "text": [
      "1. (Variación sin repetición) El podio de primer y segundo lugar puede quedar de  6.0  formas\n"
     ]
    }
   ],
   "source": [
    "n_1=3\n",
    "r_1=2\n",
    "rta_1=variacion_sin_repeticion(n_1,r_1)\n",
    "\n",
    "print(\"1. (Variación sin repetición) El podio de primer y segundo lugar puede quedar de \", str(rta_1), \" formas\")"
   ]
  },
  {
   "cell_type": "code",
   "execution_count": 246,
   "metadata": {},
   "outputs": [
    {
     "name": "stdout",
     "output_type": "stream",
     "text": [
      "2. (Combinación sin repetición) Una ensalada de frutas se puede preparar de  3.0  formas\n"
     ]
    }
   ],
   "source": [
    "n_2=3\n",
    "r_2=2\n",
    "rta_2=combinaciones_sin_repeticion(n_2,r_2)\n",
    "rta_2\n",
    "\n",
    "print(\"2. (Combinación sin repetición) Una ensalada de frutas se puede preparar de \",str(rta_2), \" formas\")"
   ]
  },
  {
   "cell_type": "code",
   "execution_count": 247,
   "metadata": {},
   "outputs": [
    {
     "name": "stdout",
     "output_type": "stream",
     "text": [
      "3. (Permutación sin repetición) Los 5 amigos puede hacer cola de:  120  formas\n"
     ]
    }
   ],
   "source": [
    "n_3=5\n",
    "rta_3=permutaciones_sin_repeticion(n_3)\n",
    "rta_3\n",
    "print(\"3. (Permutación sin repetición) Los 5 amigos puede hacer cola de: \",str(rta_3),\" formas\")"
   ]
  },
  {
   "cell_type": "code",
   "execution_count": 248,
   "metadata": {},
   "outputs": [
    {
     "name": "stdout",
     "output_type": "stream",
     "text": [
      "4. (Variación sin repetición) El juez puede otorgar los puesto de  336.0  formas\n"
     ]
    }
   ],
   "source": [
    "n_4=8\n",
    "r_4=3\n",
    "rta_4=variacion_sin_repeticion(n_4,r_4)\n",
    "\n",
    "print(\"4. (Variación sin repetición) El juez puede otorgar los puesto de \", str(rta_4), \" formas\")"
   ]
  },
  {
   "cell_type": "code",
   "execution_count": 249,
   "metadata": {},
   "outputs": [
    {
     "name": "stdout",
     "output_type": "stream",
     "text": [
      "5. (Combinación sin repetición) El cápitan puede seleccionar 2 marineros de  45.0  formas\n"
     ]
    }
   ],
   "source": [
    "n_5=10\n",
    "r_5=2\n",
    "rta_5=combinaciones_sin_repeticion(n_5,r_5)\n",
    "\n",
    "print(\"5. (Combinación sin repetición) El cápitan puede seleccionar 2 marineros de \",str(rta_5), \" formas\")"
   ]
  },
  {
   "cell_type": "code",
   "execution_count": 250,
   "metadata": {},
   "outputs": [
    {
     "name": "stdout",
     "output_type": "stream",
     "text": [
      "6. (Variación sin repetición) Eduardo puede acomodar sus 7 libros de 2520.0 formas\n"
     ]
    }
   ],
   "source": [
    "n_6=7\n",
    "r_6=5\n",
    "rta_6=variacion_sin_repeticion(n_6,r_6)\n",
    "\n",
    "print(\"6. (Variación sin repetición) Eduardo puede acomodar sus 7 libros de\", str(rta_6), \"formas\")"
   ]
  },
  {
   "cell_type": "code",
   "execution_count": 251,
   "metadata": {},
   "outputs": [
    {
     "name": "stdout",
     "output_type": "stream",
     "text": [
      "7. (Combinación sin repetición) El comité se puede formar de 45.0 formas\n"
     ]
    }
   ],
   "source": [
    "n_7=10\n",
    "r_7=2\n",
    "rta_7=combinaciones_sin_repeticion(n_7,r_7)\n",
    "\n",
    "print(\"7. (Combinación sin repetición) El comité se puede formar de\",str(rta_7), \"formas\")"
   ]
  },
  {
   "cell_type": "code",
   "execution_count": 252,
   "metadata": {},
   "outputs": [
    {
     "name": "stdout",
     "output_type": "stream",
     "text": [
      "8. (Permutaciones con repetición) Con la palabra REMEMBER se pueden formar 1680.0 palabras diferentes con sus letras\n"
     ]
    }
   ],
   "source": [
    "n_8=np.array([2, 3, 2, 1]) # R:2, E:3, M:2, B:1\n",
    "r_8=permutaciones_CON_repeticion(n_8)\n",
    "\n",
    "print(\"8. (Permutaciones con repetición) Con la palabra REMEMBER se pueden formar\",str(r_8),\"palabras diferentes con sus letras\")"
   ]
  },
  {
   "cell_type": "code",
   "execution_count": 253,
   "metadata": {},
   "outputs": [
    {
     "name": "stdout",
     "output_type": "stream",
     "text": [
      "9. (Combinación sin repetir) los equipos de 6 jugadores donde Mariana es la lider posibles son  462.0\n"
     ]
    }
   ],
   "source": [
    "n_9=11 # Jugadoras restantes después de incluir a María\n",
    "r_9=5 # Jugadoras a elegir\n",
    "rta_9=combinaciones_sin_repeticion(n_9,r_9)\n",
    "\n",
    "print(\"9. (Combinación sin repetir) los equipos de 6 jugadores donde Mariana es la lider posibles son \",str(rta_9))"
   ]
  },
  {
   "cell_type": "code",
   "execution_count": 254,
   "metadata": {},
   "outputs": [
    {
     "name": "stdout",
     "output_type": "stream",
     "text": [
      "10. (Combinaciones sin repetir) Se puede preparar 11.0 jugos surtidos\n"
     ]
    }
   ],
   "source": [
    "n_10=4\n",
    "rta_10=(combinaciones_sin_repeticion(4, 2) +\n",
    "               combinaciones_sin_repeticion(4, 3) +\n",
    "               combinaciones_sin_repeticion(4, 4))\n",
    "\n",
    "print(\"10. (Combinaciones sin repetir) Se puede preparar\", str(rta_10),\"jugos surtidos\")"
   ]
  },
  {
   "cell_type": "code",
   "execution_count": 255,
   "metadata": {},
   "outputs": [
    {
     "name": "stdout",
     "output_type": "stream",
     "text": [
      "11. (Variación sin repetición) Los 3 estudiantes pueden ser seleccionados de 720.0 formas\n"
     ]
    }
   ],
   "source": [
    "n_11=10\n",
    "r_11=3\n",
    "rta_11=variacion_sin_repeticion(n_11,r_11)\n",
    "\n",
    "print(\"11. (Variación sin repetición) Los 3 estudiantes pueden ser seleccionados de\",str(rta_11),\"formas\")"
   ]
  },
  {
   "cell_type": "code",
   "execution_count": 256,
   "metadata": {},
   "outputs": [
    {
     "name": "stdout",
     "output_type": "stream",
     "text": [
      "12. (Variación sin repetición) Los premios pueden ser ganados de 56.0 formas\n"
     ]
    }
   ],
   "source": [
    "n_12=8\n",
    "r_12=2\n",
    "rta_12=variacion_sin_repeticion(n_12,r_12)\n",
    "\n",
    "print(\"12. (Variación sin repetición) Los premios pueden ser ganados de\",str(rta_12),\"formas\")"
   ]
  },
  {
   "cell_type": "code",
   "execution_count": 257,
   "metadata": {},
   "outputs": [
    {
     "name": "stdout",
     "output_type": "stream",
     "text": [
      "13. (Variación sin repetición) Se pueden formar 210.0 números de 3 cifras\n"
     ]
    }
   ],
   "source": [
    "n_13=7\n",
    "r_13=3\n",
    "rta_13=variacion_sin_repeticion(n_13,r_13)\n",
    "\n",
    "print(\"13. (Variación sin repetición) Se pueden formar\",str(rta_13),\"números de 3 cifras\")"
   ]
  },
  {
   "cell_type": "code",
   "execution_count": 258,
   "metadata": {},
   "outputs": [
    {
     "name": "stdout",
     "output_type": "stream",
     "text": [
      "14. (Variación con repetición) Se pueden formar 343 números de 3 cifras\n"
     ]
    }
   ],
   "source": [
    "n_14=7\n",
    "r_14=3\n",
    "rta_14=variacion_CON_repeticion(n_14,r_14)\n",
    "\n",
    "print(\"14. (Variación con repetición) Se pueden formar\",str(rta_14),\"números de 3 cifras\")"
   ]
  },
  {
   "cell_type": "code",
   "execution_count": 259,
   "metadata": {},
   "outputs": [
    {
     "name": "stdout",
     "output_type": "stream",
     "text": [
      "15. (Combinaciones sin repetición) Los 3 estudiantes pueden ser seleccionados de 120.0 formas\n"
     ]
    }
   ],
   "source": [
    "n_15=10\n",
    "r_15=3\n",
    "rta_15=combinaciones_sin_repeticion(n_15,r_15)\n",
    "\n",
    "print(\"15. (Combinaciones sin repetición) Los 3 estudiantes pueden ser seleccionados de\",str(rta_15),\"formas\")"
   ]
  },
  {
   "cell_type": "code",
   "execution_count": 260,
   "metadata": {},
   "outputs": [
    {
     "name": "stdout",
     "output_type": "stream",
     "text": [
      "16. (Variaciones con repetición) El número total de placas diferentes es: 17576000\n"
     ]
    }
   ],
   "source": [
    "letras = variacion_CON_repeticion(26, 3)  # 26 letras, 3 posiciones\n",
    "digitos = variacion_CON_repeticion(10, 3)  # 10 dígitos, 3 posiciones\n",
    "rta_16=letras * digitos\n",
    "\n",
    "print(\"16. (Variaciones con repetición) El número total de placas diferentes es:\", str(rta_16))"
   ]
  },
  {
   "cell_type": "code",
   "execution_count": 261,
   "metadata": {},
   "outputs": [
    {
     "name": "stdout",
     "output_type": "stream",
     "text": [
      "17. El número de maneras diferentes en que 5 personas se pueden sentar es: 24\n"
     ]
    }
   ],
   "source": [
    "def formas_sentarse_mesa(n):\n",
    "    return math.factorial(n - 1)\n",
    "\n",
    "n = 5  # Ejemplo con 5 personas\n",
    "formas = formas_sentarse_mesa(n)\n",
    "\n",
    "print(f\"17. El número de maneras diferentes en que {n} personas se pueden sentar es:\", formas)\n"
   ]
  },
  {
   "cell_type": "code",
   "execution_count": 262,
   "metadata": {},
   "outputs": [
    {
     "name": "stdout",
     "output_type": "stream",
     "text": [
      "18. (Combinaciones con repetición) Se pueden hacer 84.0 combinaciones de helado\n"
     ]
    }
   ],
   "source": [
    "n_18=7\n",
    "r_18=3\n",
    "rta_18=combinaciones_CON_repeticion(n_18,r_18)\n",
    "\n",
    "print(\"18. (Combinaciones con repetición) Se pueden hacer\",rta_18,\"combinaciones de helado\")"
   ]
  },
  {
   "cell_type": "code",
   "execution_count": 263,
   "metadata": {},
   "outputs": [
    {
     "name": "stdout",
     "output_type": "stream",
     "text": [
      "19. (Combinación sin repetición) El número de formas de seleccionar 3 gaseosas sin importar el orden es: 20\n",
      "19. (Combinaciones con repetición) El número de formas de seleccionar 3 gaseosas considerando el orden es: 56\n"
     ]
    }
   ],
   "source": [
    "gaseosas_sin_orden_1 = combinaciones_sin_repeticion(6, 3)\n",
    "print(\"19. (Combinación sin repetición) El número de formas de seleccionar 3 gaseosas sin importar el orden es:\", int(gaseosas_sin_orden_1))\n",
    "\n",
    "gaseosas_con_orden_2=combinaciones_CON_repeticion(6,3)\n",
    "print(\"19. (Combinaciones con repetición) El número de formas de seleccionar 3 gaseosas considerando el orden es:\", int(gaseosas_con_orden_2))\n"
   ]
  },
  {
   "cell_type": "markdown",
   "metadata": {},
   "source": [
    "20) Demostración de la fórmula de combinaciones con repetición\n",
    "\n",
    "La fórmula para calcular el número de combinaciones con repetición se expresa como:\n",
    "$$\n",
    "C_r^n = \\binom{n + r - 1}{r}\n",
    "$$\n",
    "\n",
    "Supongamos que tenemos $r$ elementos que queremos seleccionar de $n$ tipos, permitiendo repeticiones. Podemos representar esto como un problema de distribución de $r$ objetos idénticos en $n$ categorías diferentes. Para resolverlo:\n",
    "\n",
    "- Representamos los objetos como $r$ símbolos idénticos (por ejemplo, estrellas $\\ast$).\n",
    "  \n",
    "- Usamos $n-1$ separadores $\\vert$ para dividir las estrellas en $n$ categorías.\n",
    "\n",
    "Por ejemplo, para $n = 3$ y $r = 4$, una posible configuración sería:\n",
    "$$\n",
    "\\ast\\ast \\vert \\ast \\vert \\ast\n",
    "$$\n",
    "que representa la distribución: 2 objetos en la primera categoría, 1 en la segunda, y 1 en la tercera.\n",
    "\n",
    "- En total, tenemos $r + (n - 1)$ posiciones a llenar: $r$ estrellas y $n-1$ separadores.\n",
    "\n",
    "- El problema ahora es seleccionar $r$ posiciones para las estrellas (o equivalentemente $n-1$ posiciones para los separadores) de las $r + n - 1$ posiciones totales.\n",
    "\n",
    "Esto es equivalente a calcular una combinación sin repetición:\n",
    "$$\n",
    "C_r^n = \\binom{n + r - 1}{r}.\n",
    "$$\n"
   ]
  },
  {
   "cell_type": "markdown",
   "metadata": {},
   "source": [
    "**Ejercicios: Hideen Markov models**"
   ]
  },
  {
   "cell_type": "code",
   "execution_count": 264,
   "metadata": {},
   "outputs": [],
   "source": [
    "#Matriz de transición\n",
    "T=np.array([[0.8,0.2],[0.2,0.8]])\n",
    "#Matriz de emisión\n",
    "E=np.array([[0.5,0.9],[0.5,0.1]])\n",
    "\n",
    "Obs=[1,0,0,0,1,0,1,0]\n",
    "States=np.array([0,1])\n",
    "Prior=np.array([0.2,0.8])"
   ]
  },
  {
   "cell_type": "code",
   "execution_count": 265,
   "metadata": {},
   "outputs": [],
   "source": [
    "def GetStates(State,N):\n",
    "    CStates = list(combinations_with_replacement(State,N))\n",
    "\n",
    "    Permu = []\n",
    "\n",
    "    for it in CStates:\n",
    "      p = list(permutations(it,N))\n",
    "      for i in p:\n",
    "        if i not in Permu:\n",
    "          Permu.append(i)\n",
    "\n",
    "    CStates = np.array(Permu)\n",
    "\n",
    "    return CStates"
   ]
  },
  {
   "cell_type": "code",
   "execution_count": 266,
   "metadata": {},
   "outputs": [],
   "source": [
    "def GetProb(T,E,Obs,State,Prior):\n",
    "\n",
    "  n = len(Obs)\n",
    "  p = 1.\n",
    "  p *= Prior[ State[0] ]\n",
    "\n",
    "  for i in range(n-1): \n",
    "    p *= T[ State[i+1], State[i] ]\n",
    "\n",
    "  for i in range(n):\n",
    "    p *= E[ Obs[i], State[i] ]\n",
    "\n",
    "  return p\n"
   ]
  },
  {
   "cell_type": "code",
   "execution_count": 267,
   "metadata": {},
   "outputs": [
    {
     "name": "stdout",
     "output_type": "stream",
     "text": [
      "b. La secuencia oculta más probable es \n"
     ]
    },
    {
     "data": {
      "text/plain": [
       "array([[0, 0, 0, ..., 0, 0, 0],\n",
       "       [0, 0, 0, ..., 0, 0, 1],\n",
       "       [0, 0, 0, ..., 0, 1, 0],\n",
       "       ...,\n",
       "       [1, 1, 1, ..., 1, 0, 1],\n",
       "       [1, 1, 1, ..., 1, 1, 0],\n",
       "       [1, 1, 1, ..., 1, 1, 1]])"
      ]
     },
     "execution_count": 267,
     "metadata": {},
     "output_type": "execute_result"
    }
   ],
   "source": [
    "HiddenStates = GetStates(States, len(Obs))\n",
    "print(\"b. La secuencia oculta más probable es \")\n",
    "HiddenStates"
   ]
  },
  {
   "cell_type": "code",
   "execution_count": 268,
   "metadata": {},
   "outputs": [],
   "source": [
    "P = np.zeros(HiddenStates.shape[0])\n",
    "for i in range(P.shape[0]):\n",
    "    P[i] = GetProb(T, E, Obs, HiddenStates[i], Prior)\n"
   ]
  },
  {
   "cell_type": "code",
   "execution_count": 269,
   "metadata": {},
   "outputs": [
    {
     "data": {
      "text/plain": [
       "<matplotlib.legend.Legend at 0x24533cb0610>"
      ]
     },
     "execution_count": 269,
     "metadata": {},
     "output_type": "execute_result"
    },
    {
     "data": {
      "image/png": "[encoded data removed]",
      "text/plain": [
       "<Figure size 640x480 with 1 Axes>"
      ]
     },
     "metadata": {},
     "output_type": "display_data"
    }
   ],
   "source": [
    "y_p=np.max(P)\n",
    "plt.plot(P,color=\"k\",label=\"Probabilidad por secuencia\")\n",
    "plt.axhline(y_p,color=\"red\", label=\"MaxP =\"+str(round(y_p,4)))\n",
    "plt.plot()\n",
    "plt.legend(fontsize=10)\n"
   ]
  }
 ],
 "metadata": {
  "kernelspec": {
   "display_name": "base",
   "language": "python",
   "name": "python3"
  },
  "language_info": {
   "codemirror_mode": {
    "name": "ipython",
    "version": 3
   },
   "file_extension": ".py",
   "mimetype": "text/x-python",
   "name": "python",
   "nbconvert_exporter": "python",
   "pygments_lexer": "ipython3",
   "version": "3.11.3"
  }
 },
 "nbformat": 4,
 "nbformat_minor": 2
}
