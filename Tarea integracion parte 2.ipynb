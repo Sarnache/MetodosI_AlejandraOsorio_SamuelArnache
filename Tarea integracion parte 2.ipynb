{
 "cells": [
  {
   "cell_type": "markdown",
   "metadata": {},
   "source": [
    "10. Ver adjunto \"Solucion 10\""
   ]
  },
  {
   "cell_type": "markdown",
   "metadata": {},
   "source": [
    "15.\n",
    "\n",
    "a) Halle los ceros de los primeros 20 polinomios de Legendre.\n",
    "\n",
    "b) Halle los pesos de ponderacion para los primeros 20 polinomios de Legendre."
   ]
  },
  {
   "cell_type": "code",
   "execution_count": 357,
   "metadata": {},
   "outputs": [],
   "source": [
    "import numpy as np\n",
    "import sympy as sym\n",
    "import matplotlib.pyplot as plt"
   ]
  },
  {
   "cell_type": "code",
   "execution_count": 358,
   "metadata": {},
   "outputs": [],
   "source": [
    "x = sym.Symbol('x', real = True)\n",
    "Get_Legendre = lambda x, n: sym.diff((x**2-1)**n, x, n)/(sym.factorial(n)*2**n)"
   ]
  },
  {
   "cell_type": "code",
   "execution_count": 359,
   "metadata": {},
   "outputs": [],
   "source": [
    "#Funcion derivada central\n",
    "def Derivative(f,x,h=1e-4):\n",
    "  return (f(x+h)-f(x-h))/(2*h)"
   ]
  },
  {
   "cell_type": "code",
   "execution_count": 360,
   "metadata": {},
   "outputs": [],
   "source": [
    "#Metodo Newton-Raphson\n",
    "def GetNewtonMethod(f,xn,itmax=100,precision=1e-8):\n",
    "\n",
    "  error = 1\n",
    "  it = 0\n",
    "\n",
    "  while (error > precision) and (it < itmax):\n",
    "    try:\n",
    "      xn1 = xn - f(xn)/Derivative(f,xn)\n",
    "      error = np.abs(f(xn)/Derivative(f,xn))\n",
    "    except ZeroDivisionError:\n",
    "      print('Division by zero error')\n",
    "    xn = xn1\n",
    "    it += 1\n",
    " # print(it,xn)\n",
    "  if it == itmax:\n",
    "    return False\n",
    "  else:\n",
    "    return xn"
   ]
  },
  {
   "cell_type": "code",
   "execution_count": 361,
   "metadata": {},
   "outputs": [],
   "source": [
    "#Retorna lista con las raices de una funcion\n",
    "def GetAllRoots(f, x, tolerancia = 10):\n",
    "\n",
    "  Roots = np.array([])\n",
    "\n",
    "  for i in x:\n",
    "\n",
    "    root = GetNewtonMethod(f, i)\n",
    "\n",
    "    if root != False:\n",
    "\n",
    "      croot = np.round(root, tolerancia)\n",
    "\n",
    "      if croot not in Roots:\n",
    "        Roots = np.append(Roots,croot)\n",
    "\n",
    "  Roots.sort()\n",
    "  \n",
    "  if len(Roots) != 0:\n",
    "    return Roots\n",
    "  else:\n",
    "    return np.array([0])"
   ]
  },
  {
   "cell_type": "code",
   "execution_count": 362,
   "metadata": {},
   "outputs": [],
   "source": [
    "# Primeros 20 polinomios de Legendre:\n",
    "poly = []\n",
    "for i in range(1,21):\n",
    "    poly.append(Get_Legendre(x, i))"
   ]
  },
  {
   "cell_type": "code",
   "execution_count": 363,
   "metadata": {},
   "outputs": [],
   "source": [
    "#Soporte\n",
    "X = np.linspace(-1, 1, 100)\n"
   ]
  },
  {
   "cell_type": "code",
   "execution_count": 364,
   "metadata": {},
   "outputs": [
    {
     "name": "stdout",
     "output_type": "stream",
     "text": [
      "---\n",
      "\n",
      "Polinomio de Legendre 1 raices: \n",
      " [0]\n",
      "\n",
      "Pesos:  [2.0]\n",
      "---\n",
      "\n",
      "Polinomio de Legendre 2 raices: \n",
      " [-0.57735027  0.57735027]\n",
      "\n",
      "Pesos:  [1.0, 1.0]\n",
      "---\n",
      "\n",
      "Polinomio de Legendre 3 raices: \n",
      " [-0.77459667 -0.          0.77459667]\n",
      "\n",
      "Pesos:  [0.55555555, 0.88888892, 0.55555555]\n",
      "---\n",
      "\n",
      "Polinomio de Legendre 4 raices: \n",
      " [-0.86113631 -0.33998104  0.33998104  0.86113631]\n",
      "\n",
      "Pesos:  [0.34785482, 0.6521452, 0.6521452, 0.34785482]\n",
      "---\n",
      "\n",
      "Polinomio de Legendre 5 raices: \n",
      " [-0.90617985 -0.53846931  0.          0.53846931  0.90617985]\n",
      "\n",
      "Pesos:  [0.23692685, 0.47862873, 0.56888894, 0.47862873, 0.23692685]\n",
      "---\n",
      "\n",
      "Polinomio de Legendre 6 raices: \n",
      " [-0.93246951 -0.66120939 -0.23861919  0.23861919  0.66120939  0.93246951]\n",
      "\n",
      "Pesos:  [0.17132443, 0.36076165, 0.467914, 0.467914, 0.36076165, 0.17132443]\n",
      "---\n",
      "\n",
      "Polinomio de Legendre 7 raices: \n",
      " [-0.94910791 -0.74153119 -0.40584515 -0.          0.40584515  0.74153119\n",
      "  0.94910791]\n",
      "\n",
      "Pesos:  [0.12948489, 0.27970548, 0.38183013, 0.41795926, 0.38183013, 0.27970548, 0.12948489]\n",
      "---\n",
      "\n",
      "Polinomio de Legendre 8 raices: \n",
      " [-0.96028986 -0.79666648 -0.52553241 -0.18343464  0.18343464  0.52553241\n",
      "  0.79666648  0.96028986]\n",
      "\n",
      "Pesos:  [0.10122843, 0.22238115, 0.31370674, 0.36268387, 0.36268387, 0.31370674, 0.22238115, 0.10122843]\n",
      "---\n",
      "\n",
      "Polinomio de Legendre 9 raices: \n",
      " [-0.96816024 -0.83603111 -0.61337143 -0.32425342 -0.          0.32425342\n",
      "  0.61337143  0.83603111  0.96816024]\n",
      "\n",
      "Pesos:  [0.08127425, 0.1806483, 0.26061081, 0.31234718, 0.33023945, 0.31234718, 0.26061081, 0.1806483, 0.08127425]\n",
      "---\n",
      "\n",
      "Polinomio de Legendre 10 raices: \n",
      " [-0.97390653 -0.86506337 -0.67940957 -0.43339539 -0.14887434  0.14887434\n",
      "  0.43339539  0.67940957  0.86506337  0.97390653]\n",
      "\n",
      "Pesos:  [0.06667117, 0.14945152, 0.2190865, 0.26926684, 0.29552433, 0.29552433, 0.26926684, 0.2190865, 0.14945152, 0.06667117]\n",
      "---\n",
      "\n",
      "Polinomio de Legendre 11 raices: \n",
      " [-0.97822866 -0.8870626  -0.73015201 -0.51909613 -0.26954316  0.\n",
      "  0.26954316  0.51909613  0.73015201  0.8870626   0.97822866]\n",
      "\n",
      "Pesos:  [0.05566836, 0.12558057, 0.18629037, 0.2331939, 0.26280467, 0.27292521, 0.26280467, 0.2331939, 0.18629037, 0.12558057, 0.05566836]\n",
      "---\n",
      "\n",
      "Polinomio de Legendre 12 raices: \n",
      " [-0.98156063 -0.90411726 -0.76990267 -0.58731795 -0.3678315  -0.12523341\n",
      "  0.12523341  0.3678315   0.58731795  0.76990267  0.90411726  0.98156063]\n",
      "\n",
      "Pesos:  [0.04717509, 0.10693956, 0.16007852, 0.20316758, 0.23349267, 0.24914718, 0.24914718, 0.23349267, 0.20316758, 0.16007852, 0.10693956, 0.04717509]\n",
      "---\n",
      "\n",
      "Polinomio de Legendre 13 raices: \n",
      " [-0.98418305 -0.9175984  -0.80157809 -0.64234934 -0.44849275 -0.23045832\n",
      " -0.          0.23045832  0.44849275  0.64234934  0.80157809  0.9175984\n",
      "  0.98418305]\n",
      "\n",
      "Pesos:  [0.04048372, 0.09212177, 0.13887372, 0.17814616, 0.2078162, 0.22628332, 0.23255169, 0.22628332, 0.2078162, 0.17814616, 0.13887372, 0.09212177, 0.04048372]\n",
      "---\n",
      "\n",
      "Polinomio de Legendre 14 raices: \n",
      " [-0.98628381 -0.92843488 -0.82720132 -0.6872929  -0.51524864 -0.31911237\n",
      " -0.10805495  0.10805495  0.31911237  0.51524864  0.6872929   0.82720132\n",
      "  0.92843488  0.98628381]\n",
      "\n",
      "Pesos:  [0.03511913, 0.08015839, 0.12151882, 0.15720337, 0.18553857, 0.20519862, 0.215264, 0.215264, 0.20519862, 0.18553857, 0.15720337, 0.12151882, 0.08015839, 0.03511913]\n",
      "---\n",
      "\n",
      "Polinomio de Legendre 15 raices: \n",
      " [-0.98799252 -0.93727339 -0.84820658 -0.72441773 -0.57097217 -0.39415135\n",
      " -0.20119409  0.          0.20119409  0.39415135  0.57097217  0.72441773\n",
      "  0.84820658  0.93727339  0.98799252]\n",
      "\n",
      "Pesos:  [0.03075286, 0.0703664, 0.1071595, 0.1395709, 0.1662694, 0.18616117, 0.19843165, 0.2025784, 0.19843165, 0.18616117, 0.1662694, 0.1395709, 0.1071595, 0.0703664, 0.03075286]\n",
      "---\n",
      "\n",
      "Polinomio de Legendre 16 raices: \n",
      " [-0.98940094 -0.94457502 -0.8656312  -0.75540441 -0.61787624 -0.45801678\n",
      " -0.28160355 -0.09501251  0.09501251  0.28160355  0.45801678  0.61787624\n",
      "  0.75540441  0.8656312   0.94457502  0.98940094]\n",
      "\n",
      "Pesos:  [0.02715202, 0.06225392, 0.09515882, 0.12462922, 0.1495962, 0.16915671, 0.18260359, 0.18945078, 0.18945078, 0.18260359, 0.16915671, 0.1495962, 0.12462922, 0.09515882, 0.06225392, 0.02715202]\n",
      "---\n",
      "\n",
      "Polinomio de Legendre 17 raices: \n",
      " [-0.99057548 -0.95067552 -0.88023915 -0.781514   -0.65767116 -0.51269054\n",
      " -0.35123176 -0.17848418 -0.          0.17848418  0.35123176  0.51269054\n",
      "  0.65767116  0.781514    0.88023915  0.95067552  0.99057548]\n",
      "\n",
      "Pesos:  [0.02414781, 0.05545997, 0.0850365, 0.11188413, 0.1351366, 0.15404597, 0.1680043, 0.17656289, 0.17944665, 0.17656289, 0.1680043, 0.15404597, 0.1351366, 0.11188413, 0.0850365, 0.05545997, 0.02414781]\n",
      "---\n",
      "\n",
      "Polinomio de Legendre 18 raices: \n",
      " [-0.99156517 -0.95582395 -0.89260247 -0.80370496 -0.69168704 -0.55977083\n",
      " -0.41175116 -0.25188623 -0.08477501  0.08477501  0.25188623  0.41175116\n",
      "  0.55977083  0.69168704  0.80370496  0.89260247  0.95582395  0.99156517]\n",
      "\n",
      "Pesos:  [0.02161546, 0.04971504, 0.07642612, 0.10094235, 0.12255547, 0.14064314, 0.15468489, 0.16427668, 0.16914258, 0.16914258, 0.16427668, 0.15468489, 0.14064314, 0.12255547, 0.10094235, 0.07642612, 0.04971504, 0.02161546]\n",
      "---\n",
      "\n",
      "Polinomio de Legendre 19 raices: \n",
      " [-0.99240684 -0.96020815 -0.9031559  -0.82271466 -0.72096618 -0.6005453\n",
      " -0.46457074 -0.3165641  -0.16035865  0.          0.16035865  0.3165641\n",
      "  0.46457074  0.6005453   0.72096618  0.82271466  0.9031559   0.96020815\n",
      "  0.99240684]\n",
      "\n",
      "Pesos:  [0.01946118, 0.04481477, 0.06904497, 0.09149036, 0.11156693, 0.12875421, 0.14260693, 0.15276626, 0.15896905, 0.16105465, 0.15896905, 0.15276626, 0.14260693, 0.12875421, 0.11156693, 0.09149036, 0.06904497, 0.04481477, 0.01946118]\n",
      "---\n",
      "\n",
      "Polinomio de Legendre 20 raices: \n",
      " [-0.9931286  -0.96397193 -0.91223443 -0.83911697 -0.74633191 -0.63605368\n",
      " -0.510867   -0.37370609 -0.22778585 -0.07652652  0.07652652  0.22778585\n",
      "  0.37370609  0.510867    0.63605368  0.74633191  0.83911697  0.91223443\n",
      "  0.96397193  0.9931286 ]\n",
      "\n",
      "Pesos:  [0.01761333, 0.04060203, 0.06267252, 0.08327712, 0.10193043, 0.1181948, 0.13168889, 0.14209634, 0.14917321, 0.1527536, 0.1527536, 0.14917321, 0.14209634, 0.13168889, 0.1181948, 0.10193043, 0.08327712, 0.06267252, 0.04060203, 0.01761333]\n"
     ]
    }
   ],
   "source": [
    "for i in range(len(poly)):\n",
    "    P = lambda y: float(poly[i].subs(x, y))\n",
    "    Roots = GetAllRoots(P, X)\n",
    "    print('---')\n",
    "    print (\"\\nPolinomio de Legendre {} raices: \\n\".format(i+1), Roots)\n",
    "    Weights = []\n",
    "    for j in Roots:\n",
    "        Weights.append(round(float(2/((1-j**2)*(Derivative(P, j))**2)), 8))\n",
    "    print(\"\\nPesos: \", Weights)\n",
    "        "
   ]
  },
  {
   "cell_type": "markdown",
   "metadata": {},
   "source": [
    "16."
   ]
  },
  {
   "cell_type": "code",
   "execution_count": 365,
   "metadata": {},
   "outputs": [],
   "source": [
    "f1 = lambda x: 1/(1+x**4)\n",
    "f2 = lambda x: 1/(x**2+x**(-2))\n",
    "# Ver adjunto \"Cambio de integral\""
   ]
  },
  {
   "cell_type": "code",
   "execution_count": 366,
   "metadata": {},
   "outputs": [
    {
     "name": "stdout",
     "output_type": "stream",
     "text": [
      "1.1107207345395917\n"
     ]
    }
   ],
   "source": [
    "def get_integral(f, a, b, n):\n",
    "    Roots, Weights = np.polynomial.legendre.leggauss(n)\n",
    "    integral = 0\n",
    "    for i in range(n):\n",
    "        integral += Weights[i]*f(0.5*(((b-a)*Roots[i])+a+b))\n",
    "    return 0.5*(b-a)*integral\n",
    "\n",
    "f = get_integral(f1, 0, 1, 20) + get_integral(f2, -1, 0, 20)\n",
    "print(f)\n",
    "    "
   ]
  },
  {
   "cell_type": "markdown",
   "metadata": {},
   "source": [
    "17."
   ]
  },
  {
   "cell_type": "code",
   "execution_count": 367,
   "metadata": {},
   "outputs": [],
   "source": [
    "b_b = lambda x: (x**3)/((np.e**x)-1)\n",
    "\n",
    "def get_laguerre_integral(f, n):\n",
    "    Roots, Weights = np.polynomial.laguerre.laggauss(n)\n",
    "    integral = 0\n",
    "    for i in range(n):\n",
    "        integral += Weights[i]*(np.e**Roots[i])*f(Roots[i])\n",
    "    return integral"
   ]
  },
  {
   "cell_type": "code",
   "execution_count": 368,
   "metadata": {},
   "outputs": [
    {
     "name": "stdout",
     "output_type": "stream",
     "text": [
      "6.481130171540027\n"
     ]
    }
   ],
   "source": [
    "# Compute this integral using the Gauss-Laguerre quadrature method for n=3 evaluation points\n",
    "print(get_laguerre_integral(b_b, 3))"
   ]
  },
  {
   "cell_type": "code",
   "execution_count": 369,
   "metadata": {},
   "outputs": [],
   "source": [
    "'''\n",
    "For this estimation, plot the relative error (ϵr(n) = Iestimated(n)/Iexact) as a function\n",
    "of the evaluation points, with n = [2, 3, ..., 10]\n",
    "'''\n",
    "def error(n):\n",
    "    return get_laguerre_integral(b_b, n)/(np.pi**4/15)"
   ]
  },
  {
   "cell_type": "code",
   "execution_count": 370,
   "metadata": {},
   "outputs": [
    {
     "data": {
      "image/png": "[encoded data removed]",
      "text/plain": [
       "<Figure size 640x480 with 1 Axes>"
      ]
     },
     "metadata": {},
     "output_type": "display_data"
    }
   ],
   "source": [
    "n = [2, 3, 4, 5, 6, 7, 8, 9, 10]\n",
    "for i in n:\n",
    "    plt.scatter(i, error(i), color = 'k')\n",
    "plt.show()"
   ]
  },
  {
   "cell_type": "markdown",
   "metadata": {},
   "source": [
    "21.\n",
    "\n",
    "a) (Theoretical) Usando las relaciones de ortogonalidad de los polinomios de Legendre,\n",
    "muestre que los coeficientes estan dados por\n",
    "\n",
    "Ver adjunto \"polinomios de Legendre\""
   ]
  },
  {
   "cell_type": "code",
   "execution_count": 371,
   "metadata": {},
   "outputs": [],
   "source": [
    "'''\n",
    "(b) Implemente la funcion sgn(x).\n",
    "'''\n",
    "def sgn(x):\n",
    "    if x < 0:\n",
    "        return -1\n",
    "    elif x == 0:\n",
    "        return 0\n",
    "    else:\n",
    "        return 1"
   ]
  },
  {
   "cell_type": "code",
   "execution_count": 372,
   "metadata": {},
   "outputs": [
    {
     "data": {
      "image/png": "[encoded data removed]",
      "text/plain": [
       "<Figure size 640x480 with 1 Axes>"
      ]
     },
     "metadata": {},
     "output_type": "display_data"
    }
   ],
   "source": [
    "X = np.linspace(-1, 1, 101)\n",
    "plt.scatter(X, [sgn(i) for i in X])\n",
    "plt.show()"
   ]
  },
  {
   "cell_type": "code",
   "execution_count": 373,
   "metadata": {},
   "outputs": [],
   "source": [
    "Roots, Weights = np.polynomial.legendre.leggauss(15)\n",
    "x = sym.Symbol('x', real = True)\n",
    "\n",
    "# Primeros 20 polinomios de Legendre:\n",
    "poly = []\n",
    "\n",
    "for i in range(20):\n",
    "    poly.append(Get_Legendre(x, i))"
   ]
  },
  {
   "cell_type": "code",
   "execution_count": 374,
   "metadata": {},
   "outputs": [],
   "source": [
    "def coeff(n):\n",
    "    Roots, Weights = np.polynomial.legendre.leggauss(15)\n",
    "    integral = 0\n",
    "    for i in range(15):\n",
    "        integral += Weights[i]*sgn(Roots[i])*(poly[n].subs(x, Roots[i]))\n",
    "    return integral*(1+2*n)/2"
   ]
  },
  {
   "cell_type": "code",
   "execution_count": 375,
   "metadata": {},
   "outputs": [],
   "source": [
    "def get_poly (n):\n",
    "    f = 0\n",
    "    for i in range(n):\n",
    "        f += coeff(i)*poly[i]\n",
    "    return f"
   ]
  },
  {
   "cell_type": "code",
   "execution_count": 376,
   "metadata": {},
   "outputs": [
    {
     "data": {
      "image/png": "[encoded data removed]",
      "text/plain": [
       "<Figure size 640x480 with 1 Axes>"
      ]
     },
     "metadata": {},
     "output_type": "display_data"
    }
   ],
   "source": [
    "X = np.linspace(-1, 1, 101)\n",
    "plt.scatter(X, [sgn(i) for i in X])\n",
    "plt.plot(X, [get_poly(20).subs(x, i) for i in X])\n",
    "plt.show()"
   ]
  },
  {
   "cell_type": "markdown",
   "metadata": {},
   "source": [
    "Desafio:"
   ]
  },
  {
   "cell_type": "code",
   "execution_count": 435,
   "metadata": {},
   "outputs": [],
   "source": [
    "def SimpsonBasico (f, a, b, tol, fa, fb, fc, max_it = 100):\n",
    "    h = b-a\n",
    "    c = (a+b)/2\n",
    "    fd = f((a+c)/2)\n",
    "    fe = f((c+b)/2)\n",
    "    S1 = (h/6)*(fa + (4*fc) + fb)\n",
    "    S2 = (h/12)*(fa + (4*fd) + (2*fc) + (4*fe) + fb)\n",
    "    if 0 < np.abs(S2-S1) <= tol:\n",
    "        Q = S2 + (S2-S1)/15\n",
    "    else:\n",
    "        Q = SimpsonBasico(f, a, c, tol, fa, fd, fc) + SimpsonBasico(f, c, b, tol, fc, fe, fb)\n",
    "    return Q"
   ]
  },
  {
   "cell_type": "code",
   "execution_count": 447,
   "metadata": {},
   "outputs": [
    {
     "name": "stdout",
     "output_type": "stream",
     "text": [
      "12.14927210431838\n"
     ]
    }
   ],
   "source": [
    "g = lambda x: x**10 - 10*x**8 + 33*x**6 - 40*x**4 + 16*x**2\n",
    "Area = 2*(SimpsonBasico(g, 0, 1, 10**(-5), f(0), f(1), f(0.5))+SimpsonBasico(g, 1, 2, 10**(-5), f(1), f(2), f(1.5)))\n",
    "print(Area)"
   ]
  },
  {
   "cell_type": "code",
   "execution_count": 433,
   "metadata": {},
   "outputs": [
    {
     "data": {
      "text/plain": [
       "[<matplotlib.lines.Line2D at 0x114465970>]"
      ]
     },
     "execution_count": 433,
     "metadata": {},
     "output_type": "execute_result"
    },
    {
     "data": {
      "image/png": "[encoded data removed]",
      "text/plain": [
       "<Figure size 640x480 with 1 Axes>"
      ]
     },
     "metadata": {},
     "output_type": "display_data"
    }
   ],
   "source": [
    "plt.plot(np.linspace(-2, 2, 100), [g(i) for i in np.linspace(-2, 2, 100)])"
   ]
  }
 ],
 "metadata": {
  "kernelspec": {
   "display_name": "Python 3",
   "language": "python",
   "name": "python3"
  },
  "language_info": {
   "codemirror_mode": {
    "name": "ipython",
    "version": 3
   },
   "file_extension": ".py",
   "mimetype": "text/x-python",
   "name": "python",
   "nbconvert_exporter": "python",
   "pygments_lexer": "ipython3",
   "version": "3.12.5"
  }
 },
 "nbformat": 4,
 "nbformat_minor": 2
}
